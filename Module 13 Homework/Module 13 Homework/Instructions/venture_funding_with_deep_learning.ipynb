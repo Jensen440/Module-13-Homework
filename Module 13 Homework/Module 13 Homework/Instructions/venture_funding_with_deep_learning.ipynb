{
 "cells": [
  {
   "cell_type": "markdown",
   "metadata": {
    "tags": []
   },
   "source": [
    "# Venture Funding with Deep Learning\n",
    "\n",
    "You work as a risk management associate at Alphabet Soup, a venture capital firm. Alphabet Soup’s business team receives many funding applications from startups every day. This team has asked you to help them create a model that predicts whether applicants will be successful if funded by Alphabet Soup.\n",
    "\n",
    "The business team has given you a CSV containing more than 34,000 organizations that have received funding from Alphabet Soup over the years. With your knowledge of machine learning and neural networks, you decide to use the features in the provided dataset to create a binary classifier model that will predict whether an applicant will become a successful business. The CSV file contains a variety of information about these businesses, including whether or not they ultimately became successful.\n",
    "\n",
    "## Instructions:\n",
    "\n",
    "The steps for this challenge are broken out into the following sections:\n",
    "\n",
    "* Prepare the data for use on a neural network model.\n",
    "\n",
    "* Compile and evaluate a binary classification model using a neural network.\n",
    "\n",
    "* Optimize the neural network model.\n",
    "\n",
    "### Prepare the Data for Use on a Neural Network Model \n",
    "\n",
    "Using your knowledge of Pandas and scikit-learn’s `StandardScaler()`, preprocess the dataset so that you can use it to compile and evaluate the neural network model later.\n",
    "\n",
    "Open the starter code file, and complete the following data preparation steps:\n",
    "\n",
    "1. Read the `applicants_data.csv` file into a Pandas DataFrame. Review the DataFrame, looking for categorical variables that will need to be encoded, as well as columns that could eventually define your features and target variables.   \n",
    "\n",
    "2. Drop the “EIN” (Employer Identification Number) and “NAME” columns from the DataFrame, because they are not relevant to the binary classification model.\n",
    " \n",
    "3. Encode the dataset’s categorical variables using `OneHotEncoder`, and then place the encoded variables into a new DataFrame.\n",
    "\n",
    "4. Add the original DataFrame’s numerical variables to the DataFrame containing the encoded variables.\n",
    "\n",
    "> **Note** To complete this step, you will employ the Pandas `concat()` function that was introduced earlier in this course. \n",
    "\n",
    "5. Using the preprocessed data, create the features (`X`) and target (`y`) datasets. The target dataset should be defined by the preprocessed DataFrame column “IS_SUCCESSFUL”. The remaining columns should define the features dataset. \n",
    "\n",
    "6. Split the features and target sets into training and testing datasets.\n",
    "\n",
    "7. Use scikit-learn's `StandardScaler` to scale the features data.\n",
    "\n",
    "### Compile and Evaluate a Binary Classification Model Using a Neural Network\n",
    "\n",
    "Use your knowledge of TensorFlow to design a binary classification deep neural network model. This model should use the dataset’s features to predict whether an Alphabet Soup&ndash;funded startup will be successful based on the features in the dataset. Consider the number of inputs before determining the number of layers that your model will contain or the number of neurons on each layer. Then, compile and fit your model. Finally, evaluate your binary classification model to calculate the model’s loss and accuracy. \n",
    " \n",
    "To do so, complete the following steps:\n",
    "\n",
    "1. Create a deep neural network by assigning the number of input features, the number of layers, and the number of neurons on each layer using Tensorflow’s Keras.\n",
    "\n",
    "> **Hint** You can start with a two-layer deep neural network model that uses the `relu` activation function for both layers.\n",
    "\n",
    "2. Compile and fit the model using the `binary_crossentropy` loss function, the `adam` optimizer, and the `accuracy` evaluation metric.\n",
    "\n",
    "> **Hint** When fitting the model, start with a small number of epochs, such as 20, 50, or 100.\n",
    "\n",
    "3. Evaluate the model using the test data to determine the model’s loss and accuracy.\n",
    "\n",
    "4. Save and export your model to an HDF5 file, and name the file `AlphabetSoup.h5`. \n",
    "\n",
    "### Optimize the Neural Network Model\n",
    "\n",
    "Using your knowledge of TensorFlow and Keras, optimize your model to improve the model's accuracy. Even if you do not successfully achieve a better accuracy, you'll need to demonstrate at least two attempts to optimize the model. You can include these attempts in your existing notebook. Or, you can make copies of the starter notebook in the same folder, rename them, and code each model optimization in a new notebook. \n",
    "\n",
    "> **Note** You will not lose points if your model does not achieve a high accuracy, as long as you make at least two attempts to optimize the model.\n",
    "\n",
    "To do so, complete the following steps:\n",
    "\n",
    "1. Define at least three new deep neural network models (the original plus 2 optimization attempts). With each, try to improve on your first model’s predictive accuracy.\n",
    "\n",
    "> **Rewind** Recall that perfect accuracy has a value of 1, so accuracy improves as its value moves closer to 1. To optimize your model for a predictive accuracy as close to 1 as possible, you can use any or all of the following techniques:\n",
    ">\n",
    "> * Adjust the input data by dropping different features columns to ensure that no variables or outliers confuse the model.\n",
    ">\n",
    "> * Add more neurons (nodes) to a hidden layer.\n",
    ">\n",
    "> * Add more hidden layers.\n",
    ">\n",
    "> * Use different activation functions for the hidden layers.\n",
    ">\n",
    "> * Add to or reduce the number of epochs in the training regimen.\n",
    "\n",
    "2. After finishing your models, display the accuracy scores achieved by each model, and compare the results.\n",
    "\n",
    "3. Save each of your models as an HDF5 file.\n"
   ]
  },
  {
   "cell_type": "code",
   "execution_count": 1,
   "metadata": {},
   "outputs": [],
   "source": [
    "# Imports\n",
    "import pandas as pd\n",
    "from pathlib import Path\n",
    "import tensorflow as tf\n",
    "import numpy as np\n",
    "from tensorflow.keras.layers import Dense\n",
    "from tensorflow.keras.models import Sequential\n",
    "from sklearn.model_selection import train_test_split\n",
    "from sklearn.preprocessing import StandardScaler,OneHotEncoder"
   ]
  },
  {
   "cell_type": "markdown",
   "metadata": {},
   "source": [
    "---\n",
    "\n",
    "## Prepare the data to be used on a neural network model"
   ]
  },
  {
   "cell_type": "markdown",
   "metadata": {},
   "source": [
    "### Step 1: Read the `applicants_data.csv` file into a Pandas DataFrame. Review the DataFrame, looking for categorical variables that will need to be encoded, as well as columns that could eventually define your features and target variables.  \n"
   ]
  },
  {
   "cell_type": "code",
   "execution_count": 2,
   "metadata": {},
   "outputs": [
    {
     "data": {
      "text/html": [
       "<div>\n",
       "<style scoped>\n",
       "    .dataframe tbody tr th:only-of-type {\n",
       "        vertical-align: middle;\n",
       "    }\n",
       "\n",
       "    .dataframe tbody tr th {\n",
       "        vertical-align: top;\n",
       "    }\n",
       "\n",
       "    .dataframe thead th {\n",
       "        text-align: right;\n",
       "    }\n",
       "</style>\n",
       "<table border=\"1\" class=\"dataframe\">\n",
       "  <thead>\n",
       "    <tr style=\"text-align: right;\">\n",
       "      <th></th>\n",
       "      <th>EIN</th>\n",
       "      <th>NAME</th>\n",
       "      <th>APPLICATION_TYPE</th>\n",
       "      <th>AFFILIATION</th>\n",
       "      <th>CLASSIFICATION</th>\n",
       "      <th>USE_CASE</th>\n",
       "      <th>ORGANIZATION</th>\n",
       "      <th>STATUS</th>\n",
       "      <th>INCOME_AMT</th>\n",
       "      <th>SPECIAL_CONSIDERATIONS</th>\n",
       "      <th>ASK_AMT</th>\n",
       "      <th>IS_SUCCESSFUL</th>\n",
       "    </tr>\n",
       "  </thead>\n",
       "  <tbody>\n",
       "    <tr>\n",
       "      <th>0</th>\n",
       "      <td>10520599</td>\n",
       "      <td>BLUE KNIGHTS MOTORCYCLE CLUB</td>\n",
       "      <td>T10</td>\n",
       "      <td>Independent</td>\n",
       "      <td>C1000</td>\n",
       "      <td>ProductDev</td>\n",
       "      <td>Association</td>\n",
       "      <td>1</td>\n",
       "      <td>0</td>\n",
       "      <td>N</td>\n",
       "      <td>5000</td>\n",
       "      <td>1</td>\n",
       "    </tr>\n",
       "    <tr>\n",
       "      <th>1</th>\n",
       "      <td>10531628</td>\n",
       "      <td>AMERICAN CHESAPEAKE CLUB CHARITABLE TR</td>\n",
       "      <td>T3</td>\n",
       "      <td>Independent</td>\n",
       "      <td>C2000</td>\n",
       "      <td>Preservation</td>\n",
       "      <td>Co-operative</td>\n",
       "      <td>1</td>\n",
       "      <td>1-9999</td>\n",
       "      <td>N</td>\n",
       "      <td>108590</td>\n",
       "      <td>1</td>\n",
       "    </tr>\n",
       "    <tr>\n",
       "      <th>2</th>\n",
       "      <td>10547893</td>\n",
       "      <td>ST CLOUD PROFESSIONAL FIREFIGHTERS</td>\n",
       "      <td>T5</td>\n",
       "      <td>CompanySponsored</td>\n",
       "      <td>C3000</td>\n",
       "      <td>ProductDev</td>\n",
       "      <td>Association</td>\n",
       "      <td>1</td>\n",
       "      <td>0</td>\n",
       "      <td>N</td>\n",
       "      <td>5000</td>\n",
       "      <td>0</td>\n",
       "    </tr>\n",
       "    <tr>\n",
       "      <th>3</th>\n",
       "      <td>10553066</td>\n",
       "      <td>SOUTHSIDE ATHLETIC ASSOCIATION</td>\n",
       "      <td>T3</td>\n",
       "      <td>CompanySponsored</td>\n",
       "      <td>C2000</td>\n",
       "      <td>Preservation</td>\n",
       "      <td>Trust</td>\n",
       "      <td>1</td>\n",
       "      <td>10000-24999</td>\n",
       "      <td>N</td>\n",
       "      <td>6692</td>\n",
       "      <td>1</td>\n",
       "    </tr>\n",
       "    <tr>\n",
       "      <th>4</th>\n",
       "      <td>10556103</td>\n",
       "      <td>GENETIC RESEARCH INSTITUTE OF THE DESERT</td>\n",
       "      <td>T3</td>\n",
       "      <td>Independent</td>\n",
       "      <td>C1000</td>\n",
       "      <td>Heathcare</td>\n",
       "      <td>Trust</td>\n",
       "      <td>1</td>\n",
       "      <td>100000-499999</td>\n",
       "      <td>N</td>\n",
       "      <td>142590</td>\n",
       "      <td>1</td>\n",
       "    </tr>\n",
       "  </tbody>\n",
       "</table>\n",
       "</div>"
      ],
      "text/plain": [
       "        EIN                                      NAME APPLICATION_TYPE  \\\n",
       "0  10520599              BLUE KNIGHTS MOTORCYCLE CLUB              T10   \n",
       "1  10531628    AMERICAN CHESAPEAKE CLUB CHARITABLE TR               T3   \n",
       "2  10547893        ST CLOUD PROFESSIONAL FIREFIGHTERS               T5   \n",
       "3  10553066            SOUTHSIDE ATHLETIC ASSOCIATION               T3   \n",
       "4  10556103  GENETIC RESEARCH INSTITUTE OF THE DESERT               T3   \n",
       "\n",
       "        AFFILIATION CLASSIFICATION      USE_CASE  ORGANIZATION  STATUS  \\\n",
       "0       Independent          C1000    ProductDev   Association       1   \n",
       "1       Independent          C2000  Preservation  Co-operative       1   \n",
       "2  CompanySponsored          C3000    ProductDev   Association       1   \n",
       "3  CompanySponsored          C2000  Preservation         Trust       1   \n",
       "4       Independent          C1000     Heathcare         Trust       1   \n",
       "\n",
       "      INCOME_AMT SPECIAL_CONSIDERATIONS  ASK_AMT  IS_SUCCESSFUL  \n",
       "0              0                      N     5000              1  \n",
       "1         1-9999                      N   108590              1  \n",
       "2              0                      N     5000              0  \n",
       "3    10000-24999                      N     6692              1  \n",
       "4  100000-499999                      N   142590              1  "
      ]
     },
     "execution_count": 2,
     "metadata": {},
     "output_type": "execute_result"
    }
   ],
   "source": [
    "# Read the applicants_data.csv file from the Resources folder into a Pandas DataFrame\n",
    "applicant_data_df = pd.read_csv(Path('Resources/applicants_data.csv'))\n",
    "\n",
    "\n",
    "# Review the DataFrame\n",
    "applicant_data_df.head()\n"
   ]
  },
  {
   "cell_type": "code",
   "execution_count": 3,
   "metadata": {},
   "outputs": [
    {
     "data": {
      "text/plain": [
       "EIN                        int64\n",
       "NAME                      object\n",
       "APPLICATION_TYPE          object\n",
       "AFFILIATION               object\n",
       "CLASSIFICATION            object\n",
       "USE_CASE                  object\n",
       "ORGANIZATION              object\n",
       "STATUS                     int64\n",
       "INCOME_AMT                object\n",
       "SPECIAL_CONSIDERATIONS    object\n",
       "ASK_AMT                    int64\n",
       "IS_SUCCESSFUL              int64\n",
       "dtype: object"
      ]
     },
     "execution_count": 3,
     "metadata": {},
     "output_type": "execute_result"
    }
   ],
   "source": [
    "# Review the data types associated with the columns\n",
    "applicant_data_df.dtypes\n"
   ]
  },
  {
   "cell_type": "markdown",
   "metadata": {},
   "source": [
    "### Step 2: Drop the “EIN” (Employer Identification Number) and “NAME” columns from the DataFrame, because they are not relevant to the binary classification model."
   ]
  },
  {
   "cell_type": "code",
   "execution_count": 4,
   "metadata": {},
   "outputs": [
    {
     "data": {
      "text/html": [
       "<div>\n",
       "<style scoped>\n",
       "    .dataframe tbody tr th:only-of-type {\n",
       "        vertical-align: middle;\n",
       "    }\n",
       "\n",
       "    .dataframe tbody tr th {\n",
       "        vertical-align: top;\n",
       "    }\n",
       "\n",
       "    .dataframe thead th {\n",
       "        text-align: right;\n",
       "    }\n",
       "</style>\n",
       "<table border=\"1\" class=\"dataframe\">\n",
       "  <thead>\n",
       "    <tr style=\"text-align: right;\">\n",
       "      <th></th>\n",
       "      <th>APPLICATION_TYPE</th>\n",
       "      <th>AFFILIATION</th>\n",
       "      <th>CLASSIFICATION</th>\n",
       "      <th>USE_CASE</th>\n",
       "      <th>ORGANIZATION</th>\n",
       "      <th>STATUS</th>\n",
       "      <th>INCOME_AMT</th>\n",
       "      <th>SPECIAL_CONSIDERATIONS</th>\n",
       "      <th>ASK_AMT</th>\n",
       "      <th>IS_SUCCESSFUL</th>\n",
       "    </tr>\n",
       "  </thead>\n",
       "  <tbody>\n",
       "    <tr>\n",
       "      <th>0</th>\n",
       "      <td>T10</td>\n",
       "      <td>Independent</td>\n",
       "      <td>C1000</td>\n",
       "      <td>ProductDev</td>\n",
       "      <td>Association</td>\n",
       "      <td>1</td>\n",
       "      <td>0</td>\n",
       "      <td>N</td>\n",
       "      <td>5000</td>\n",
       "      <td>1</td>\n",
       "    </tr>\n",
       "    <tr>\n",
       "      <th>1</th>\n",
       "      <td>T3</td>\n",
       "      <td>Independent</td>\n",
       "      <td>C2000</td>\n",
       "      <td>Preservation</td>\n",
       "      <td>Co-operative</td>\n",
       "      <td>1</td>\n",
       "      <td>1-9999</td>\n",
       "      <td>N</td>\n",
       "      <td>108590</td>\n",
       "      <td>1</td>\n",
       "    </tr>\n",
       "    <tr>\n",
       "      <th>2</th>\n",
       "      <td>T5</td>\n",
       "      <td>CompanySponsored</td>\n",
       "      <td>C3000</td>\n",
       "      <td>ProductDev</td>\n",
       "      <td>Association</td>\n",
       "      <td>1</td>\n",
       "      <td>0</td>\n",
       "      <td>N</td>\n",
       "      <td>5000</td>\n",
       "      <td>0</td>\n",
       "    </tr>\n",
       "    <tr>\n",
       "      <th>3</th>\n",
       "      <td>T3</td>\n",
       "      <td>CompanySponsored</td>\n",
       "      <td>C2000</td>\n",
       "      <td>Preservation</td>\n",
       "      <td>Trust</td>\n",
       "      <td>1</td>\n",
       "      <td>10000-24999</td>\n",
       "      <td>N</td>\n",
       "      <td>6692</td>\n",
       "      <td>1</td>\n",
       "    </tr>\n",
       "    <tr>\n",
       "      <th>4</th>\n",
       "      <td>T3</td>\n",
       "      <td>Independent</td>\n",
       "      <td>C1000</td>\n",
       "      <td>Heathcare</td>\n",
       "      <td>Trust</td>\n",
       "      <td>1</td>\n",
       "      <td>100000-499999</td>\n",
       "      <td>N</td>\n",
       "      <td>142590</td>\n",
       "      <td>1</td>\n",
       "    </tr>\n",
       "  </tbody>\n",
       "</table>\n",
       "</div>"
      ],
      "text/plain": [
       "  APPLICATION_TYPE       AFFILIATION CLASSIFICATION      USE_CASE  \\\n",
       "0              T10       Independent          C1000    ProductDev   \n",
       "1               T3       Independent          C2000  Preservation   \n",
       "2               T5  CompanySponsored          C3000    ProductDev   \n",
       "3               T3  CompanySponsored          C2000  Preservation   \n",
       "4               T3       Independent          C1000     Heathcare   \n",
       "\n",
       "   ORGANIZATION  STATUS     INCOME_AMT SPECIAL_CONSIDERATIONS  ASK_AMT  \\\n",
       "0   Association       1              0                      N     5000   \n",
       "1  Co-operative       1         1-9999                      N   108590   \n",
       "2   Association       1              0                      N     5000   \n",
       "3         Trust       1    10000-24999                      N     6692   \n",
       "4         Trust       1  100000-499999                      N   142590   \n",
       "\n",
       "   IS_SUCCESSFUL  \n",
       "0              1  \n",
       "1              1  \n",
       "2              0  \n",
       "3              1  \n",
       "4              1  "
      ]
     },
     "execution_count": 4,
     "metadata": {},
     "output_type": "execute_result"
    }
   ],
   "source": [
    "# Drop the 'EIN' and 'NAME' columns from the DataFrame\n",
    "applicant_data_df = applicant_data_df.drop(columns=['EIN','NAME'])\n",
    "\n",
    "# Review the DataFrame\n",
    "applicant_data_df.head()\n"
   ]
  },
  {
   "cell_type": "markdown",
   "metadata": {},
   "source": [
    "### Step 3: Encode the dataset’s categorical variables using `OneHotEncoder`, and then place the encoded variables into a new DataFrame."
   ]
  },
  {
   "cell_type": "code",
   "execution_count": 5,
   "metadata": {},
   "outputs": [
    {
     "data": {
      "text/plain": [
       "['APPLICATION_TYPE',\n",
       " 'AFFILIATION',\n",
       " 'CLASSIFICATION',\n",
       " 'USE_CASE',\n",
       " 'ORGANIZATION',\n",
       " 'INCOME_AMT',\n",
       " 'SPECIAL_CONSIDERATIONS']"
      ]
     },
     "execution_count": 5,
     "metadata": {},
     "output_type": "execute_result"
    }
   ],
   "source": [
    "# Create a list of categorical variables \n",
    "\n",
    "categorical_variables = list(applicant_data_df.dtypes[applicant_data_df.dtypes=='object'].index)\n",
    "\n",
    "# Display the categorical variables list\n",
    "categorical_variables\n"
   ]
  },
  {
   "cell_type": "code",
   "execution_count": 6,
   "metadata": {},
   "outputs": [],
   "source": [
    "# Create a OneHotEncoder instance\n",
    "enc = OneHotEncoder(sparse=False)\n"
   ]
  },
  {
   "cell_type": "code",
   "execution_count": 7,
   "metadata": {},
   "outputs": [],
   "source": [
    "# Encode the categorcal variables using OneHotEncoder\n",
    "encoded_data = enc.fit_transform(applicant_data_df[categorical_variables])\n"
   ]
  },
  {
   "cell_type": "code",
   "execution_count": 8,
   "metadata": {},
   "outputs": [
    {
     "name": "stderr",
     "output_type": "stream",
     "text": [
      "C:\\Users\\Bebop\\anaconda3\\envs\\dev\\envs\\dev\\lib\\site-packages\\sklearn\\utils\\deprecation.py:87: FutureWarning: Function get_feature_names is deprecated; get_feature_names is deprecated in 1.0 and will be removed in 1.2. Please use get_feature_names_out instead.\n",
      "  warnings.warn(msg, category=FutureWarning)\n"
     ]
    },
    {
     "data": {
      "text/html": [
       "<div>\n",
       "<style scoped>\n",
       "    .dataframe tbody tr th:only-of-type {\n",
       "        vertical-align: middle;\n",
       "    }\n",
       "\n",
       "    .dataframe tbody tr th {\n",
       "        vertical-align: top;\n",
       "    }\n",
       "\n",
       "    .dataframe thead th {\n",
       "        text-align: right;\n",
       "    }\n",
       "</style>\n",
       "<table border=\"1\" class=\"dataframe\">\n",
       "  <thead>\n",
       "    <tr style=\"text-align: right;\">\n",
       "      <th></th>\n",
       "      <th>APPLICATION_TYPE_T10</th>\n",
       "      <th>APPLICATION_TYPE_T12</th>\n",
       "      <th>APPLICATION_TYPE_T13</th>\n",
       "      <th>APPLICATION_TYPE_T14</th>\n",
       "      <th>APPLICATION_TYPE_T15</th>\n",
       "      <th>APPLICATION_TYPE_T17</th>\n",
       "      <th>APPLICATION_TYPE_T19</th>\n",
       "      <th>APPLICATION_TYPE_T2</th>\n",
       "      <th>APPLICATION_TYPE_T25</th>\n",
       "      <th>APPLICATION_TYPE_T29</th>\n",
       "      <th>...</th>\n",
       "      <th>INCOME_AMT_1-9999</th>\n",
       "      <th>INCOME_AMT_10000-24999</th>\n",
       "      <th>INCOME_AMT_100000-499999</th>\n",
       "      <th>INCOME_AMT_10M-50M</th>\n",
       "      <th>INCOME_AMT_1M-5M</th>\n",
       "      <th>INCOME_AMT_25000-99999</th>\n",
       "      <th>INCOME_AMT_50M+</th>\n",
       "      <th>INCOME_AMT_5M-10M</th>\n",
       "      <th>SPECIAL_CONSIDERATIONS_N</th>\n",
       "      <th>SPECIAL_CONSIDERATIONS_Y</th>\n",
       "    </tr>\n",
       "  </thead>\n",
       "  <tbody>\n",
       "    <tr>\n",
       "      <th>0</th>\n",
       "      <td>1.0</td>\n",
       "      <td>0.0</td>\n",
       "      <td>0.0</td>\n",
       "      <td>0.0</td>\n",
       "      <td>0.0</td>\n",
       "      <td>0.0</td>\n",
       "      <td>0.0</td>\n",
       "      <td>0.0</td>\n",
       "      <td>0.0</td>\n",
       "      <td>0.0</td>\n",
       "      <td>...</td>\n",
       "      <td>0.0</td>\n",
       "      <td>0.0</td>\n",
       "      <td>0.0</td>\n",
       "      <td>0.0</td>\n",
       "      <td>0.0</td>\n",
       "      <td>0.0</td>\n",
       "      <td>0.0</td>\n",
       "      <td>0.0</td>\n",
       "      <td>1.0</td>\n",
       "      <td>0.0</td>\n",
       "    </tr>\n",
       "    <tr>\n",
       "      <th>1</th>\n",
       "      <td>0.0</td>\n",
       "      <td>0.0</td>\n",
       "      <td>0.0</td>\n",
       "      <td>0.0</td>\n",
       "      <td>0.0</td>\n",
       "      <td>0.0</td>\n",
       "      <td>0.0</td>\n",
       "      <td>0.0</td>\n",
       "      <td>0.0</td>\n",
       "      <td>0.0</td>\n",
       "      <td>...</td>\n",
       "      <td>1.0</td>\n",
       "      <td>0.0</td>\n",
       "      <td>0.0</td>\n",
       "      <td>0.0</td>\n",
       "      <td>0.0</td>\n",
       "      <td>0.0</td>\n",
       "      <td>0.0</td>\n",
       "      <td>0.0</td>\n",
       "      <td>1.0</td>\n",
       "      <td>0.0</td>\n",
       "    </tr>\n",
       "    <tr>\n",
       "      <th>2</th>\n",
       "      <td>0.0</td>\n",
       "      <td>0.0</td>\n",
       "      <td>0.0</td>\n",
       "      <td>0.0</td>\n",
       "      <td>0.0</td>\n",
       "      <td>0.0</td>\n",
       "      <td>0.0</td>\n",
       "      <td>0.0</td>\n",
       "      <td>0.0</td>\n",
       "      <td>0.0</td>\n",
       "      <td>...</td>\n",
       "      <td>0.0</td>\n",
       "      <td>0.0</td>\n",
       "      <td>0.0</td>\n",
       "      <td>0.0</td>\n",
       "      <td>0.0</td>\n",
       "      <td>0.0</td>\n",
       "      <td>0.0</td>\n",
       "      <td>0.0</td>\n",
       "      <td>1.0</td>\n",
       "      <td>0.0</td>\n",
       "    </tr>\n",
       "    <tr>\n",
       "      <th>3</th>\n",
       "      <td>0.0</td>\n",
       "      <td>0.0</td>\n",
       "      <td>0.0</td>\n",
       "      <td>0.0</td>\n",
       "      <td>0.0</td>\n",
       "      <td>0.0</td>\n",
       "      <td>0.0</td>\n",
       "      <td>0.0</td>\n",
       "      <td>0.0</td>\n",
       "      <td>0.0</td>\n",
       "      <td>...</td>\n",
       "      <td>0.0</td>\n",
       "      <td>1.0</td>\n",
       "      <td>0.0</td>\n",
       "      <td>0.0</td>\n",
       "      <td>0.0</td>\n",
       "      <td>0.0</td>\n",
       "      <td>0.0</td>\n",
       "      <td>0.0</td>\n",
       "      <td>1.0</td>\n",
       "      <td>0.0</td>\n",
       "    </tr>\n",
       "    <tr>\n",
       "      <th>4</th>\n",
       "      <td>0.0</td>\n",
       "      <td>0.0</td>\n",
       "      <td>0.0</td>\n",
       "      <td>0.0</td>\n",
       "      <td>0.0</td>\n",
       "      <td>0.0</td>\n",
       "      <td>0.0</td>\n",
       "      <td>0.0</td>\n",
       "      <td>0.0</td>\n",
       "      <td>0.0</td>\n",
       "      <td>...</td>\n",
       "      <td>0.0</td>\n",
       "      <td>0.0</td>\n",
       "      <td>1.0</td>\n",
       "      <td>0.0</td>\n",
       "      <td>0.0</td>\n",
       "      <td>0.0</td>\n",
       "      <td>0.0</td>\n",
       "      <td>0.0</td>\n",
       "      <td>1.0</td>\n",
       "      <td>0.0</td>\n",
       "    </tr>\n",
       "  </tbody>\n",
       "</table>\n",
       "<p>5 rows × 114 columns</p>\n",
       "</div>"
      ],
      "text/plain": [
       "   APPLICATION_TYPE_T10  APPLICATION_TYPE_T12  APPLICATION_TYPE_T13  \\\n",
       "0                   1.0                   0.0                   0.0   \n",
       "1                   0.0                   0.0                   0.0   \n",
       "2                   0.0                   0.0                   0.0   \n",
       "3                   0.0                   0.0                   0.0   \n",
       "4                   0.0                   0.0                   0.0   \n",
       "\n",
       "   APPLICATION_TYPE_T14  APPLICATION_TYPE_T15  APPLICATION_TYPE_T17  \\\n",
       "0                   0.0                   0.0                   0.0   \n",
       "1                   0.0                   0.0                   0.0   \n",
       "2                   0.0                   0.0                   0.0   \n",
       "3                   0.0                   0.0                   0.0   \n",
       "4                   0.0                   0.0                   0.0   \n",
       "\n",
       "   APPLICATION_TYPE_T19  APPLICATION_TYPE_T2  APPLICATION_TYPE_T25  \\\n",
       "0                   0.0                  0.0                   0.0   \n",
       "1                   0.0                  0.0                   0.0   \n",
       "2                   0.0                  0.0                   0.0   \n",
       "3                   0.0                  0.0                   0.0   \n",
       "4                   0.0                  0.0                   0.0   \n",
       "\n",
       "   APPLICATION_TYPE_T29  ...  INCOME_AMT_1-9999  INCOME_AMT_10000-24999  \\\n",
       "0                   0.0  ...                0.0                     0.0   \n",
       "1                   0.0  ...                1.0                     0.0   \n",
       "2                   0.0  ...                0.0                     0.0   \n",
       "3                   0.0  ...                0.0                     1.0   \n",
       "4                   0.0  ...                0.0                     0.0   \n",
       "\n",
       "   INCOME_AMT_100000-499999  INCOME_AMT_10M-50M  INCOME_AMT_1M-5M  \\\n",
       "0                       0.0                 0.0               0.0   \n",
       "1                       0.0                 0.0               0.0   \n",
       "2                       0.0                 0.0               0.0   \n",
       "3                       0.0                 0.0               0.0   \n",
       "4                       1.0                 0.0               0.0   \n",
       "\n",
       "   INCOME_AMT_25000-99999  INCOME_AMT_50M+  INCOME_AMT_5M-10M  \\\n",
       "0                     0.0              0.0                0.0   \n",
       "1                     0.0              0.0                0.0   \n",
       "2                     0.0              0.0                0.0   \n",
       "3                     0.0              0.0                0.0   \n",
       "4                     0.0              0.0                0.0   \n",
       "\n",
       "   SPECIAL_CONSIDERATIONS_N  SPECIAL_CONSIDERATIONS_Y  \n",
       "0                       1.0                       0.0  \n",
       "1                       1.0                       0.0  \n",
       "2                       1.0                       0.0  \n",
       "3                       1.0                       0.0  \n",
       "4                       1.0                       0.0  \n",
       "\n",
       "[5 rows x 114 columns]"
      ]
     },
     "execution_count": 8,
     "metadata": {},
     "output_type": "execute_result"
    }
   ],
   "source": [
    "# Create a DataFrame with the encoded variables\n",
    "encoded_df = pd.DataFrame(\n",
    "    encoded_data,\n",
    "    columns=enc.get_feature_names(categorical_variables)\n",
    ")\n",
    "\n",
    "# Review the DataFrame\n",
    "encoded_df.head()\n"
   ]
  },
  {
   "cell_type": "markdown",
   "metadata": {},
   "source": [
    "### Step 4: Add the original DataFrame’s numerical variables to the DataFrame containing the encoded variables.\n",
    "\n",
    "> **Note** To complete this step, you will employ the Pandas `concat()` function that was introduced earlier in this course. "
   ]
  },
  {
   "cell_type": "code",
   "execution_count": 9,
   "metadata": {},
   "outputs": [
    {
     "data": {
      "text/plain": [
       "['STATUS', 'ASK_AMT', 'IS_SUCCESSFUL']"
      ]
     },
     "execution_count": 9,
     "metadata": {},
     "output_type": "execute_result"
    }
   ],
   "source": [
    "# Create a list of numerical variables\n",
    "\n",
    "numerical_variables = list(applicant_data_df.dtypes[applicant_data_df.dtypes!='object'].index)\n",
    "numerical_variables"
   ]
  },
  {
   "cell_type": "code",
   "execution_count": 10,
   "metadata": {},
   "outputs": [
    {
     "data": {
      "text/html": [
       "<div>\n",
       "<style scoped>\n",
       "    .dataframe tbody tr th:only-of-type {\n",
       "        vertical-align: middle;\n",
       "    }\n",
       "\n",
       "    .dataframe tbody tr th {\n",
       "        vertical-align: top;\n",
       "    }\n",
       "\n",
       "    .dataframe thead th {\n",
       "        text-align: right;\n",
       "    }\n",
       "</style>\n",
       "<table border=\"1\" class=\"dataframe\">\n",
       "  <thead>\n",
       "    <tr style=\"text-align: right;\">\n",
       "      <th></th>\n",
       "      <th>STATUS</th>\n",
       "      <th>ASK_AMT</th>\n",
       "      <th>IS_SUCCESSFUL</th>\n",
       "      <th>APPLICATION_TYPE_T10</th>\n",
       "      <th>APPLICATION_TYPE_T12</th>\n",
       "      <th>APPLICATION_TYPE_T13</th>\n",
       "      <th>APPLICATION_TYPE_T14</th>\n",
       "      <th>APPLICATION_TYPE_T15</th>\n",
       "      <th>APPLICATION_TYPE_T17</th>\n",
       "      <th>APPLICATION_TYPE_T19</th>\n",
       "      <th>...</th>\n",
       "      <th>INCOME_AMT_1-9999</th>\n",
       "      <th>INCOME_AMT_10000-24999</th>\n",
       "      <th>INCOME_AMT_100000-499999</th>\n",
       "      <th>INCOME_AMT_10M-50M</th>\n",
       "      <th>INCOME_AMT_1M-5M</th>\n",
       "      <th>INCOME_AMT_25000-99999</th>\n",
       "      <th>INCOME_AMT_50M+</th>\n",
       "      <th>INCOME_AMT_5M-10M</th>\n",
       "      <th>SPECIAL_CONSIDERATIONS_N</th>\n",
       "      <th>SPECIAL_CONSIDERATIONS_Y</th>\n",
       "    </tr>\n",
       "  </thead>\n",
       "  <tbody>\n",
       "    <tr>\n",
       "      <th>0</th>\n",
       "      <td>1</td>\n",
       "      <td>5000</td>\n",
       "      <td>1</td>\n",
       "      <td>1.0</td>\n",
       "      <td>0.0</td>\n",
       "      <td>0.0</td>\n",
       "      <td>0.0</td>\n",
       "      <td>0.0</td>\n",
       "      <td>0.0</td>\n",
       "      <td>0.0</td>\n",
       "      <td>...</td>\n",
       "      <td>0.0</td>\n",
       "      <td>0.0</td>\n",
       "      <td>0.0</td>\n",
       "      <td>0.0</td>\n",
       "      <td>0.0</td>\n",
       "      <td>0.0</td>\n",
       "      <td>0.0</td>\n",
       "      <td>0.0</td>\n",
       "      <td>1.0</td>\n",
       "      <td>0.0</td>\n",
       "    </tr>\n",
       "    <tr>\n",
       "      <th>1</th>\n",
       "      <td>1</td>\n",
       "      <td>108590</td>\n",
       "      <td>1</td>\n",
       "      <td>0.0</td>\n",
       "      <td>0.0</td>\n",
       "      <td>0.0</td>\n",
       "      <td>0.0</td>\n",
       "      <td>0.0</td>\n",
       "      <td>0.0</td>\n",
       "      <td>0.0</td>\n",
       "      <td>...</td>\n",
       "      <td>1.0</td>\n",
       "      <td>0.0</td>\n",
       "      <td>0.0</td>\n",
       "      <td>0.0</td>\n",
       "      <td>0.0</td>\n",
       "      <td>0.0</td>\n",
       "      <td>0.0</td>\n",
       "      <td>0.0</td>\n",
       "      <td>1.0</td>\n",
       "      <td>0.0</td>\n",
       "    </tr>\n",
       "    <tr>\n",
       "      <th>2</th>\n",
       "      <td>1</td>\n",
       "      <td>5000</td>\n",
       "      <td>0</td>\n",
       "      <td>0.0</td>\n",
       "      <td>0.0</td>\n",
       "      <td>0.0</td>\n",
       "      <td>0.0</td>\n",
       "      <td>0.0</td>\n",
       "      <td>0.0</td>\n",
       "      <td>0.0</td>\n",
       "      <td>...</td>\n",
       "      <td>0.0</td>\n",
       "      <td>0.0</td>\n",
       "      <td>0.0</td>\n",
       "      <td>0.0</td>\n",
       "      <td>0.0</td>\n",
       "      <td>0.0</td>\n",
       "      <td>0.0</td>\n",
       "      <td>0.0</td>\n",
       "      <td>1.0</td>\n",
       "      <td>0.0</td>\n",
       "    </tr>\n",
       "    <tr>\n",
       "      <th>3</th>\n",
       "      <td>1</td>\n",
       "      <td>6692</td>\n",
       "      <td>1</td>\n",
       "      <td>0.0</td>\n",
       "      <td>0.0</td>\n",
       "      <td>0.0</td>\n",
       "      <td>0.0</td>\n",
       "      <td>0.0</td>\n",
       "      <td>0.0</td>\n",
       "      <td>0.0</td>\n",
       "      <td>...</td>\n",
       "      <td>0.0</td>\n",
       "      <td>1.0</td>\n",
       "      <td>0.0</td>\n",
       "      <td>0.0</td>\n",
       "      <td>0.0</td>\n",
       "      <td>0.0</td>\n",
       "      <td>0.0</td>\n",
       "      <td>0.0</td>\n",
       "      <td>1.0</td>\n",
       "      <td>0.0</td>\n",
       "    </tr>\n",
       "    <tr>\n",
       "      <th>4</th>\n",
       "      <td>1</td>\n",
       "      <td>142590</td>\n",
       "      <td>1</td>\n",
       "      <td>0.0</td>\n",
       "      <td>0.0</td>\n",
       "      <td>0.0</td>\n",
       "      <td>0.0</td>\n",
       "      <td>0.0</td>\n",
       "      <td>0.0</td>\n",
       "      <td>0.0</td>\n",
       "      <td>...</td>\n",
       "      <td>0.0</td>\n",
       "      <td>0.0</td>\n",
       "      <td>1.0</td>\n",
       "      <td>0.0</td>\n",
       "      <td>0.0</td>\n",
       "      <td>0.0</td>\n",
       "      <td>0.0</td>\n",
       "      <td>0.0</td>\n",
       "      <td>1.0</td>\n",
       "      <td>0.0</td>\n",
       "    </tr>\n",
       "  </tbody>\n",
       "</table>\n",
       "<p>5 rows × 117 columns</p>\n",
       "</div>"
      ],
      "text/plain": [
       "   STATUS  ASK_AMT  IS_SUCCESSFUL  APPLICATION_TYPE_T10  APPLICATION_TYPE_T12  \\\n",
       "0       1     5000              1                   1.0                   0.0   \n",
       "1       1   108590              1                   0.0                   0.0   \n",
       "2       1     5000              0                   0.0                   0.0   \n",
       "3       1     6692              1                   0.0                   0.0   \n",
       "4       1   142590              1                   0.0                   0.0   \n",
       "\n",
       "   APPLICATION_TYPE_T13  APPLICATION_TYPE_T14  APPLICATION_TYPE_T15  \\\n",
       "0                   0.0                   0.0                   0.0   \n",
       "1                   0.0                   0.0                   0.0   \n",
       "2                   0.0                   0.0                   0.0   \n",
       "3                   0.0                   0.0                   0.0   \n",
       "4                   0.0                   0.0                   0.0   \n",
       "\n",
       "   APPLICATION_TYPE_T17  APPLICATION_TYPE_T19  ...  INCOME_AMT_1-9999  \\\n",
       "0                   0.0                   0.0  ...                0.0   \n",
       "1                   0.0                   0.0  ...                1.0   \n",
       "2                   0.0                   0.0  ...                0.0   \n",
       "3                   0.0                   0.0  ...                0.0   \n",
       "4                   0.0                   0.0  ...                0.0   \n",
       "\n",
       "   INCOME_AMT_10000-24999  INCOME_AMT_100000-499999  INCOME_AMT_10M-50M  \\\n",
       "0                     0.0                       0.0                 0.0   \n",
       "1                     0.0                       0.0                 0.0   \n",
       "2                     0.0                       0.0                 0.0   \n",
       "3                     1.0                       0.0                 0.0   \n",
       "4                     0.0                       1.0                 0.0   \n",
       "\n",
       "   INCOME_AMT_1M-5M  INCOME_AMT_25000-99999  INCOME_AMT_50M+  \\\n",
       "0               0.0                     0.0              0.0   \n",
       "1               0.0                     0.0              0.0   \n",
       "2               0.0                     0.0              0.0   \n",
       "3               0.0                     0.0              0.0   \n",
       "4               0.0                     0.0              0.0   \n",
       "\n",
       "   INCOME_AMT_5M-10M  SPECIAL_CONSIDERATIONS_N  SPECIAL_CONSIDERATIONS_Y  \n",
       "0                0.0                       1.0                       0.0  \n",
       "1                0.0                       1.0                       0.0  \n",
       "2                0.0                       1.0                       0.0  \n",
       "3                0.0                       1.0                       0.0  \n",
       "4                0.0                       1.0                       0.0  \n",
       "\n",
       "[5 rows x 117 columns]"
      ]
     },
     "execution_count": 10,
     "metadata": {},
     "output_type": "execute_result"
    }
   ],
   "source": [
    "# Add the numerical variables from the original DataFrame to the one-hot encoding DataFrame\n",
    "encoded_df =pd.concat([applicant_data_df[numerical_variables], encoded_df], axis=1)\n",
    "\n",
    "# Review the Dataframe\n",
    "encoded_df.head()\n"
   ]
  },
  {
   "cell_type": "markdown",
   "metadata": {},
   "source": [
    "### Step 5: Using the preprocessed data, create the features (`X`) and target (`y`) datasets. The target dataset should be defined by the preprocessed DataFrame column “IS_SUCCESSFUL”. The remaining columns should define the features dataset. \n",
    "\n"
   ]
  },
  {
   "cell_type": "code",
   "execution_count": 11,
   "metadata": {},
   "outputs": [
    {
     "data": {
      "text/plain": [
       "0    1\n",
       "1    1\n",
       "2    0\n",
       "3    1\n",
       "4    1\n",
       "Name: IS_SUCCESSFUL, dtype: int64"
      ]
     },
     "execution_count": 11,
     "metadata": {},
     "output_type": "execute_result"
    }
   ],
   "source": [
    "# Define the target set y using the IS_SUCCESSFUL column\n",
    "y = encoded_df['IS_SUCCESSFUL']\n",
    "\n",
    "# Display a sample of y\n",
    "y.head()\n"
   ]
  },
  {
   "cell_type": "code",
   "execution_count": 12,
   "metadata": {},
   "outputs": [
    {
     "data": {
      "text/html": [
       "<div>\n",
       "<style scoped>\n",
       "    .dataframe tbody tr th:only-of-type {\n",
       "        vertical-align: middle;\n",
       "    }\n",
       "\n",
       "    .dataframe tbody tr th {\n",
       "        vertical-align: top;\n",
       "    }\n",
       "\n",
       "    .dataframe thead th {\n",
       "        text-align: right;\n",
       "    }\n",
       "</style>\n",
       "<table border=\"1\" class=\"dataframe\">\n",
       "  <thead>\n",
       "    <tr style=\"text-align: right;\">\n",
       "      <th></th>\n",
       "      <th>STATUS</th>\n",
       "      <th>ASK_AMT</th>\n",
       "      <th>APPLICATION_TYPE_T10</th>\n",
       "      <th>APPLICATION_TYPE_T12</th>\n",
       "      <th>APPLICATION_TYPE_T13</th>\n",
       "      <th>APPLICATION_TYPE_T14</th>\n",
       "      <th>APPLICATION_TYPE_T15</th>\n",
       "      <th>APPLICATION_TYPE_T17</th>\n",
       "      <th>APPLICATION_TYPE_T19</th>\n",
       "      <th>APPLICATION_TYPE_T2</th>\n",
       "      <th>...</th>\n",
       "      <th>INCOME_AMT_1-9999</th>\n",
       "      <th>INCOME_AMT_10000-24999</th>\n",
       "      <th>INCOME_AMT_100000-499999</th>\n",
       "      <th>INCOME_AMT_10M-50M</th>\n",
       "      <th>INCOME_AMT_1M-5M</th>\n",
       "      <th>INCOME_AMT_25000-99999</th>\n",
       "      <th>INCOME_AMT_50M+</th>\n",
       "      <th>INCOME_AMT_5M-10M</th>\n",
       "      <th>SPECIAL_CONSIDERATIONS_N</th>\n",
       "      <th>SPECIAL_CONSIDERATIONS_Y</th>\n",
       "    </tr>\n",
       "  </thead>\n",
       "  <tbody>\n",
       "    <tr>\n",
       "      <th>0</th>\n",
       "      <td>1</td>\n",
       "      <td>5000</td>\n",
       "      <td>1.0</td>\n",
       "      <td>0.0</td>\n",
       "      <td>0.0</td>\n",
       "      <td>0.0</td>\n",
       "      <td>0.0</td>\n",
       "      <td>0.0</td>\n",
       "      <td>0.0</td>\n",
       "      <td>0.0</td>\n",
       "      <td>...</td>\n",
       "      <td>0.0</td>\n",
       "      <td>0.0</td>\n",
       "      <td>0.0</td>\n",
       "      <td>0.0</td>\n",
       "      <td>0.0</td>\n",
       "      <td>0.0</td>\n",
       "      <td>0.0</td>\n",
       "      <td>0.0</td>\n",
       "      <td>1.0</td>\n",
       "      <td>0.0</td>\n",
       "    </tr>\n",
       "    <tr>\n",
       "      <th>1</th>\n",
       "      <td>1</td>\n",
       "      <td>108590</td>\n",
       "      <td>0.0</td>\n",
       "      <td>0.0</td>\n",
       "      <td>0.0</td>\n",
       "      <td>0.0</td>\n",
       "      <td>0.0</td>\n",
       "      <td>0.0</td>\n",
       "      <td>0.0</td>\n",
       "      <td>0.0</td>\n",
       "      <td>...</td>\n",
       "      <td>1.0</td>\n",
       "      <td>0.0</td>\n",
       "      <td>0.0</td>\n",
       "      <td>0.0</td>\n",
       "      <td>0.0</td>\n",
       "      <td>0.0</td>\n",
       "      <td>0.0</td>\n",
       "      <td>0.0</td>\n",
       "      <td>1.0</td>\n",
       "      <td>0.0</td>\n",
       "    </tr>\n",
       "    <tr>\n",
       "      <th>2</th>\n",
       "      <td>1</td>\n",
       "      <td>5000</td>\n",
       "      <td>0.0</td>\n",
       "      <td>0.0</td>\n",
       "      <td>0.0</td>\n",
       "      <td>0.0</td>\n",
       "      <td>0.0</td>\n",
       "      <td>0.0</td>\n",
       "      <td>0.0</td>\n",
       "      <td>0.0</td>\n",
       "      <td>...</td>\n",
       "      <td>0.0</td>\n",
       "      <td>0.0</td>\n",
       "      <td>0.0</td>\n",
       "      <td>0.0</td>\n",
       "      <td>0.0</td>\n",
       "      <td>0.0</td>\n",
       "      <td>0.0</td>\n",
       "      <td>0.0</td>\n",
       "      <td>1.0</td>\n",
       "      <td>0.0</td>\n",
       "    </tr>\n",
       "    <tr>\n",
       "      <th>3</th>\n",
       "      <td>1</td>\n",
       "      <td>6692</td>\n",
       "      <td>0.0</td>\n",
       "      <td>0.0</td>\n",
       "      <td>0.0</td>\n",
       "      <td>0.0</td>\n",
       "      <td>0.0</td>\n",
       "      <td>0.0</td>\n",
       "      <td>0.0</td>\n",
       "      <td>0.0</td>\n",
       "      <td>...</td>\n",
       "      <td>0.0</td>\n",
       "      <td>1.0</td>\n",
       "      <td>0.0</td>\n",
       "      <td>0.0</td>\n",
       "      <td>0.0</td>\n",
       "      <td>0.0</td>\n",
       "      <td>0.0</td>\n",
       "      <td>0.0</td>\n",
       "      <td>1.0</td>\n",
       "      <td>0.0</td>\n",
       "    </tr>\n",
       "    <tr>\n",
       "      <th>4</th>\n",
       "      <td>1</td>\n",
       "      <td>142590</td>\n",
       "      <td>0.0</td>\n",
       "      <td>0.0</td>\n",
       "      <td>0.0</td>\n",
       "      <td>0.0</td>\n",
       "      <td>0.0</td>\n",
       "      <td>0.0</td>\n",
       "      <td>0.0</td>\n",
       "      <td>0.0</td>\n",
       "      <td>...</td>\n",
       "      <td>0.0</td>\n",
       "      <td>0.0</td>\n",
       "      <td>1.0</td>\n",
       "      <td>0.0</td>\n",
       "      <td>0.0</td>\n",
       "      <td>0.0</td>\n",
       "      <td>0.0</td>\n",
       "      <td>0.0</td>\n",
       "      <td>1.0</td>\n",
       "      <td>0.0</td>\n",
       "    </tr>\n",
       "  </tbody>\n",
       "</table>\n",
       "<p>5 rows × 116 columns</p>\n",
       "</div>"
      ],
      "text/plain": [
       "   STATUS  ASK_AMT  APPLICATION_TYPE_T10  APPLICATION_TYPE_T12  \\\n",
       "0       1     5000                   1.0                   0.0   \n",
       "1       1   108590                   0.0                   0.0   \n",
       "2       1     5000                   0.0                   0.0   \n",
       "3       1     6692                   0.0                   0.0   \n",
       "4       1   142590                   0.0                   0.0   \n",
       "\n",
       "   APPLICATION_TYPE_T13  APPLICATION_TYPE_T14  APPLICATION_TYPE_T15  \\\n",
       "0                   0.0                   0.0                   0.0   \n",
       "1                   0.0                   0.0                   0.0   \n",
       "2                   0.0                   0.0                   0.0   \n",
       "3                   0.0                   0.0                   0.0   \n",
       "4                   0.0                   0.0                   0.0   \n",
       "\n",
       "   APPLICATION_TYPE_T17  APPLICATION_TYPE_T19  APPLICATION_TYPE_T2  ...  \\\n",
       "0                   0.0                   0.0                  0.0  ...   \n",
       "1                   0.0                   0.0                  0.0  ...   \n",
       "2                   0.0                   0.0                  0.0  ...   \n",
       "3                   0.0                   0.0                  0.0  ...   \n",
       "4                   0.0                   0.0                  0.0  ...   \n",
       "\n",
       "   INCOME_AMT_1-9999  INCOME_AMT_10000-24999  INCOME_AMT_100000-499999  \\\n",
       "0                0.0                     0.0                       0.0   \n",
       "1                1.0                     0.0                       0.0   \n",
       "2                0.0                     0.0                       0.0   \n",
       "3                0.0                     1.0                       0.0   \n",
       "4                0.0                     0.0                       1.0   \n",
       "\n",
       "   INCOME_AMT_10M-50M  INCOME_AMT_1M-5M  INCOME_AMT_25000-99999  \\\n",
       "0                 0.0               0.0                     0.0   \n",
       "1                 0.0               0.0                     0.0   \n",
       "2                 0.0               0.0                     0.0   \n",
       "3                 0.0               0.0                     0.0   \n",
       "4                 0.0               0.0                     0.0   \n",
       "\n",
       "   INCOME_AMT_50M+  INCOME_AMT_5M-10M  SPECIAL_CONSIDERATIONS_N  \\\n",
       "0              0.0                0.0                       1.0   \n",
       "1              0.0                0.0                       1.0   \n",
       "2              0.0                0.0                       1.0   \n",
       "3              0.0                0.0                       1.0   \n",
       "4              0.0                0.0                       1.0   \n",
       "\n",
       "   SPECIAL_CONSIDERATIONS_Y  \n",
       "0                       0.0  \n",
       "1                       0.0  \n",
       "2                       0.0  \n",
       "3                       0.0  \n",
       "4                       0.0  \n",
       "\n",
       "[5 rows x 116 columns]"
      ]
     },
     "execution_count": 12,
     "metadata": {},
     "output_type": "execute_result"
    }
   ],
   "source": [
    "# Define features set X by selecting all columns but IS_SUCCESSFUL\n",
    "X = encoded_df.drop(columns=['IS_SUCCESSFUL'])\n",
    "\n",
    "# Review the features DataFrame\n",
    "X.head()\n"
   ]
  },
  {
   "cell_type": "markdown",
   "metadata": {},
   "source": [
    "### Step 6: Split the features and target sets into training and testing datasets.\n"
   ]
  },
  {
   "cell_type": "code",
   "execution_count": 13,
   "metadata": {},
   "outputs": [],
   "source": [
    "# Split the preprocessed data into a training and testing dataset\n",
    "# Assign the function a random_state equal to 1\n",
    "X_train, X_test, y_train, y_test = train_test_split(X,y)\n"
   ]
  },
  {
   "cell_type": "markdown",
   "metadata": {},
   "source": [
    "### Step 7: Use scikit-learn's `StandardScaler` to scale the features data."
   ]
  },
  {
   "cell_type": "code",
   "execution_count": 14,
   "metadata": {},
   "outputs": [],
   "source": [
    "# Create a StandardScaler instance\n",
    "scaler = StandardScaler()\n",
    "\n",
    "# Fit the scaler to the features training dataset\n",
    "X_scaler = scaler.fit(X_train)\n",
    "\n",
    "# Fit the scaler to the features training dataset\n",
    "X_train_scaled = X_scaler.transform(X_train)\n",
    "X_test_scaled = X_scaler.transform(X_test)\n"
   ]
  },
  {
   "cell_type": "markdown",
   "metadata": {},
   "source": [
    "---\n",
    "\n",
    "## Compile and Evaluate a Binary Classification Model Using a Neural Network"
   ]
  },
  {
   "cell_type": "markdown",
   "metadata": {},
   "source": [
    "### Step 1: Create a deep neural network by assigning the number of input features, the number of layers, and the number of neurons on each layer using Tensorflow’s Keras.\n",
    "\n",
    "> **Hint** You can start with a two-layer deep neural network model that uses the `relu` activation function for both layers.\n"
   ]
  },
  {
   "cell_type": "code",
   "execution_count": 15,
   "metadata": {},
   "outputs": [
    {
     "data": {
      "text/plain": [
       "116"
      ]
     },
     "execution_count": 15,
     "metadata": {},
     "output_type": "execute_result"
    }
   ],
   "source": [
    "# Define the the number of inputs (features) to the model\n",
    "number_input_features = len(X_train.iloc[0])\n",
    "\n",
    "\n",
    "# Review the number of features\n",
    "number_input_features\n"
   ]
  },
  {
   "cell_type": "code",
   "execution_count": 16,
   "metadata": {},
   "outputs": [],
   "source": [
    "# Define the number of neurons in the output layer\n",
    "number_output_neurons = 1"
   ]
  },
  {
   "cell_type": "code",
   "execution_count": 17,
   "metadata": {},
   "outputs": [
    {
     "data": {
      "text/plain": [
       "8"
      ]
     },
     "execution_count": 17,
     "metadata": {},
     "output_type": "execute_result"
    }
   ],
   "source": [
    "# Define the number of hidden nodes for the first hidden layer\n",
    "hidden_nodes_layer1 =  8\n",
    "\n",
    "# Review the number hidden nodes in the first layer\n",
    "hidden_nodes_layer1\n"
   ]
  },
  {
   "cell_type": "code",
   "execution_count": 18,
   "metadata": {},
   "outputs": [
    {
     "data": {
      "text/plain": [
       "4"
      ]
     },
     "execution_count": 18,
     "metadata": {},
     "output_type": "execute_result"
    }
   ],
   "source": [
    "# Define the number of hidden nodes for the second hidden layer\n",
    "hidden_nodes_layer2 =  4\n",
    "\n",
    "# Review the number hidden nodes in the second layer\n",
    "hidden_nodes_layer2\n"
   ]
  },
  {
   "cell_type": "code",
   "execution_count": 19,
   "metadata": {},
   "outputs": [],
   "source": [
    "# Create the Sequential model instance\n",
    "nn = Sequential()\n"
   ]
  },
  {
   "cell_type": "code",
   "execution_count": 20,
   "metadata": {},
   "outputs": [],
   "source": [
    "# Add the first hidden layer\n",
    "nn.add(Dense(units=hidden_nodes_layer1, input_dim=number_input_features, activation=\"relu\"))\n"
   ]
  },
  {
   "cell_type": "code",
   "execution_count": 21,
   "metadata": {},
   "outputs": [],
   "source": [
    "# Add the second hidden layer\n",
    "nn.add(Dense(units=hidden_nodes_layer2, activation=\"relu\"))\n"
   ]
  },
  {
   "cell_type": "code",
   "execution_count": 22,
   "metadata": {},
   "outputs": [],
   "source": [
    "# Add the output layer to the model specifying the number of output neurons and activation function\n",
    "nn.add(Dense(units=1, activation=\"linear\"))\n"
   ]
  },
  {
   "cell_type": "code",
   "execution_count": 23,
   "metadata": {},
   "outputs": [
    {
     "name": "stdout",
     "output_type": "stream",
     "text": [
      "Model: \"sequential\"\n",
      "_________________________________________________________________\n",
      " Layer (type)                Output Shape              Param #   \n",
      "=================================================================\n",
      " dense (Dense)               (None, 8)                 936       \n",
      "                                                                 \n",
      " dense_1 (Dense)             (None, 4)                 36        \n",
      "                                                                 \n",
      " dense_2 (Dense)             (None, 1)                 5         \n",
      "                                                                 \n",
      "=================================================================\n",
      "Total params: 977\n",
      "Trainable params: 977\n",
      "Non-trainable params: 0\n",
      "_________________________________________________________________\n"
     ]
    }
   ],
   "source": [
    "# Display the Sequential model summary\n",
    "nn.summary()\n"
   ]
  },
  {
   "cell_type": "markdown",
   "metadata": {},
   "source": [
    "### Step 2: Compile and fit the model using the `binary_crossentropy` loss function, the `adam` optimizer, and the `accuracy` evaluation metric.\n"
   ]
  },
  {
   "cell_type": "code",
   "execution_count": 24,
   "metadata": {},
   "outputs": [],
   "source": [
    "# Compile the Sequential model\n",
    "nn.compile(loss=\"mean_squared_error\", optimizer=\"adam\", metrics=[\"mse\"])\n"
   ]
  },
  {
   "cell_type": "code",
   "execution_count": 25,
   "metadata": {},
   "outputs": [
    {
     "name": "stdout",
     "output_type": "stream",
     "text": [
      "Epoch 1/50\n",
      "751/751 [==============================] - 1s 1ms/step - loss: 493681115136.0000 - mse: 493681115136.0000 - val_loss: 848991551488.0000 - val_mse: 848991551488.0000\n",
      "Epoch 2/50\n",
      "751/751 [==============================] - 1s 930us/step - loss: 1720828288.0000 - mse: 1720828288.0000 - val_loss: 814679.8125 - val_mse: 814679.8125\n",
      "Epoch 3/50\n",
      "751/751 [==============================] - 1s 932us/step - loss: 14406.5908 - mse: 14406.5908 - val_loss: 11.2633 - val_mse: 11.2633\n",
      "Epoch 4/50\n",
      "751/751 [==============================] - 1s 936us/step - loss: 0.5317 - mse: 0.5317 - val_loss: 0.4528 - val_mse: 0.4528\n",
      "Epoch 5/50\n",
      "751/751 [==============================] - 1s 936us/step - loss: 0.3034 - mse: 0.3034 - val_loss: 0.4212 - val_mse: 0.4212\n",
      "Epoch 6/50\n",
      "751/751 [==============================] - 1s 970us/step - loss: 0.2960 - mse: 0.2960 - val_loss: 0.3788 - val_mse: 0.3788\n",
      "Epoch 7/50\n",
      "751/751 [==============================] - 1s 935us/step - loss: 0.2925 - mse: 0.2925 - val_loss: 0.4013 - val_mse: 0.4013\n",
      "Epoch 8/50\n",
      "751/751 [==============================] - 1s 935us/step - loss: 0.2934 - mse: 0.2934 - val_loss: 0.4704 - val_mse: 0.4704\n",
      "Epoch 9/50\n",
      "751/751 [==============================] - 1s 940us/step - loss: 34.5510 - mse: 34.5510 - val_loss: 237.8785 - val_mse: 237.8785\n",
      "Epoch 10/50\n",
      "751/751 [==============================] - 1s 941us/step - loss: 16958129152.0000 - mse: 16958129152.0000 - val_loss: 719153463296.0000 - val_mse: 719153463296.0000\n",
      "Epoch 11/50\n",
      "751/751 [==============================] - 1s 937us/step - loss: 438938272.0000 - mse: 438938272.0000 - val_loss: 771.1682 - val_mse: 771.1682\n",
      "Epoch 12/50\n",
      "751/751 [==============================] - 1s 949us/step - loss: 110.4107 - mse: 110.4107 - val_loss: 0.7562 - val_mse: 0.7562\n",
      "Epoch 13/50\n",
      "751/751 [==============================] - 1s 950us/step - loss: 0.3961 - mse: 0.3961 - val_loss: 0.3675 - val_mse: 0.3675\n",
      "Epoch 14/50\n",
      "751/751 [==============================] - 1s 934us/step - loss: 0.2939 - mse: 0.2939 - val_loss: 0.3520 - val_mse: 0.3520\n",
      "Epoch 15/50\n",
      "751/751 [==============================] - 1s 936us/step - loss: 0.9547 - mse: 0.9547 - val_loss: 464.4805 - val_mse: 464.4805\n",
      "Epoch 16/50\n",
      "751/751 [==============================] - 1s 946us/step - loss: 11594597376.0000 - mse: 11594597376.0000 - val_loss: 1097015427072.0000 - val_mse: 1097015427072.0000\n",
      "Epoch 17/50\n",
      "751/751 [==============================] - 1s 937us/step - loss: 1572426880.0000 - mse: 1572426880.0000 - val_loss: 26.6123 - val_mse: 26.6123\n",
      "Epoch 18/50\n",
      "751/751 [==============================] - 1s 944us/step - loss: 2.3891 - mse: 2.3891 - val_loss: 235.1803 - val_mse: 235.1803\n",
      "Epoch 19/50\n",
      "751/751 [==============================] - 1s 931us/step - loss: 9.1929 - mse: 9.1929 - val_loss: 259.0641 - val_mse: 259.0641\n",
      "Epoch 20/50\n",
      "751/751 [==============================] - 1s 939us/step - loss: 515.0079 - mse: 515.0079 - val_loss: 70327.9297 - val_mse: 70327.9297\n",
      "Epoch 21/50\n",
      "751/751 [==============================] - 1s 932us/step - loss: 20236523520.0000 - mse: 20236523520.0000 - val_loss: 33683908608.0000 - val_mse: 33683908608.0000\n",
      "Epoch 22/50\n",
      "751/751 [==============================] - 1s 956us/step - loss: 152443936.0000 - mse: 152443936.0000 - val_loss: 12086388.0000 - val_mse: 12086388.0000\n",
      "Epoch 23/50\n",
      "751/751 [==============================] - 1s 924us/step - loss: 12036.3730 - mse: 12036.3730 - val_loss: 0.5502 - val_mse: 0.5502\n",
      "Epoch 24/50\n",
      "751/751 [==============================] - 1s 934us/step - loss: 0.4904 - mse: 0.4904 - val_loss: 2.7816 - val_mse: 2.7816\n",
      "Epoch 25/50\n",
      "751/751 [==============================] - 1s 928us/step - loss: 11.5870 - mse: 11.5870 - val_loss: 1638.0334 - val_mse: 1638.0334\n",
      "Epoch 26/50\n",
      "751/751 [==============================] - 1s 934us/step - loss: 32148.1973 - mse: 32148.1973 - val_loss: 1637908.0000 - val_mse: 1637908.0000\n",
      "Epoch 27/50\n",
      "751/751 [==============================] - 1s 962us/step - loss: 5162801152.0000 - mse: 5162801152.0000 - val_loss: 449616096.0000 - val_mse: 449616096.0000\n",
      "Epoch 28/50\n",
      "751/751 [==============================] - 1s 929us/step - loss: 477750848.0000 - mse: 477750848.0000 - val_loss: 468873.3750 - val_mse: 468873.3750\n",
      "Epoch 29/50\n",
      "751/751 [==============================] - 1s 928us/step - loss: 1378827648.0000 - mse: 1378827648.0000 - val_loss: 426256629760.0000 - val_mse: 426256629760.0000\n",
      "Epoch 30/50\n",
      "751/751 [==============================] - 1s 917us/step - loss: 24155281408.0000 - mse: 24155281408.0000 - val_loss: 486.7244 - val_mse: 486.7244\n",
      "Epoch 31/50\n",
      "751/751 [==============================] - 1s 933us/step - loss: 1.8368 - mse: 1.8368 - val_loss: 0.4351 - val_mse: 0.4351\n",
      "Epoch 32/50\n",
      "751/751 [==============================] - 1s 937us/step - loss: 0.3004 - mse: 0.3004 - val_loss: 0.3148 - val_mse: 0.3148\n",
      "Epoch 33/50\n",
      "751/751 [==============================] - 1s 928us/step - loss: 0.2967 - mse: 0.2967 - val_loss: 0.3019 - val_mse: 0.3019\n",
      "Epoch 34/50\n",
      "751/751 [==============================] - 1s 929us/step - loss: 0.3080 - mse: 0.3080 - val_loss: 0.2940 - val_mse: 0.2940\n",
      "Epoch 35/50\n",
      "751/751 [==============================] - 1s 930us/step - loss: 0.3056 - mse: 0.3056 - val_loss: 0.3014 - val_mse: 0.3014\n",
      "Epoch 36/50\n",
      "751/751 [==============================] - 1s 923us/step - loss: 3.8016 - mse: 3.8016 - val_loss: 7.6342 - val_mse: 7.6342\n",
      "Epoch 37/50\n",
      "751/751 [==============================] - 1s 934us/step - loss: 21657.1152 - mse: 21657.1152 - val_loss: 244779776.0000 - val_mse: 244779776.0000\n",
      "Epoch 38/50\n",
      "751/751 [==============================] - 1s 946us/step - loss: 1859803520.0000 - mse: 1859803520.0000 - val_loss: 886281601024.0000 - val_mse: 886281601024.0000\n",
      "Epoch 39/50\n",
      "751/751 [==============================] - 1s 927us/step - loss: 20338044928.0000 - mse: 20338044928.0000 - val_loss: 502240.8125 - val_mse: 502240.8125\n",
      "Epoch 40/50\n",
      "751/751 [==============================] - 1s 937us/step - loss: 597.3434 - mse: 597.3434 - val_loss: 184.4470 - val_mse: 184.4470\n",
      "Epoch 41/50\n",
      "751/751 [==============================] - 1s 921us/step - loss: 1.5227 - mse: 1.5227 - val_loss: 0.6926 - val_mse: 0.6926\n",
      "Epoch 42/50\n",
      "751/751 [==============================] - 1s 920us/step - loss: 0.3641 - mse: 0.3641 - val_loss: 0.4182 - val_mse: 0.4182\n",
      "Epoch 43/50\n",
      "751/751 [==============================] - 1s 911us/step - loss: 0.3590 - mse: 0.3590 - val_loss: 0.3847 - val_mse: 0.3847\n",
      "Epoch 44/50\n",
      "751/751 [==============================] - 1s 930us/step - loss: 0.3562 - mse: 0.3562 - val_loss: 0.3744 - val_mse: 0.3744\n",
      "Epoch 45/50\n",
      "751/751 [==============================] - 1s 906us/step - loss: 116.3040 - mse: 116.3040 - val_loss: 994234.2500 - val_mse: 994234.2500\n",
      "Epoch 46/50\n",
      "751/751 [==============================] - 1s 907us/step - loss: 246366576.0000 - mse: 246366576.0000 - val_loss: 1931444092928.0000 - val_mse: 1931444092928.0000\n",
      "Epoch 47/50\n",
      "751/751 [==============================] - 1s 906us/step - loss: 15173974016.0000 - mse: 15173974016.0000 - val_loss: 88993857536.0000 - val_mse: 88993857536.0000\n",
      "Epoch 48/50\n",
      "751/751 [==============================] - 1s 918us/step - loss: 146419648.0000 - mse: 146419648.0000 - val_loss: 107804.4844 - val_mse: 107804.4844\n",
      "Epoch 49/50\n",
      "751/751 [==============================] - 1s 911us/step - loss: 179.1731 - mse: 179.1731 - val_loss: 1.5259 - val_mse: 1.5259\n",
      "Epoch 50/50\n",
      "751/751 [==============================] - 1s 930us/step - loss: 0.3046 - mse: 0.3046 - val_loss: 0.2929 - val_mse: 0.2929\n"
     ]
    }
   ],
   "source": [
    "# Fit the model using 50 epochs and the training data\n",
    "model_1 = nn.fit(X, y, validation_split=0.3, epochs=50)\n"
   ]
  },
  {
   "cell_type": "markdown",
   "metadata": {},
   "source": [
    "### Step 3: Evaluate the model using the test data to determine the model’s loss and accuracy.\n"
   ]
  },
  {
   "cell_type": "code",
   "execution_count": 26,
   "metadata": {},
   "outputs": [
    {
     "name": "stdout",
     "output_type": "stream",
     "text": [
      "268/268 - 0s - loss: 0.5882 - mse: 0.5882 - 199ms/epoch - 743us/step\n",
      "Loss: 0.5881990790367126, Accuracy: 0.5881990790367126\n"
     ]
    }
   ],
   "source": [
    "# Evaluate the model loss and accuracy metrics using the evaluate method and the test data\n",
    "model_loss, model_accuracy = nn.evaluate(X_test_scaled, y_test, verbose=2)\n",
    "\n",
    "# Display the model loss and accuracy results\n",
    "print(f\"Loss: {model_loss}, Accuracy: {model_accuracy}\")"
   ]
  },
  {
   "cell_type": "markdown",
   "metadata": {},
   "source": [
    "### Step 4: Save and export your model to an HDF5 file, and name the file `AlphabetSoup.h5`. \n"
   ]
  },
  {
   "cell_type": "code",
   "execution_count": 27,
   "metadata": {},
   "outputs": [],
   "source": [
    "# Set the model's file path\n",
    "file_path = Path('Resources/AlphabetSoup.h5')\n",
    "\n",
    "# Export your model to a HDF5 file\n",
    "nn.save(file_path)\n"
   ]
  },
  {
   "cell_type": "markdown",
   "metadata": {},
   "source": [
    "---\n",
    "\n",
    "## Optimize the neural network model\n"
   ]
  },
  {
   "cell_type": "markdown",
   "metadata": {},
   "source": [
    "### Step 1: Define at least three new deep neural network models (resulting in the original plus 3 optimization attempts). With each, try to improve on your first model’s predictive accuracy.\n",
    "\n",
    "> **Rewind** Recall that perfect accuracy has a value of 1, so accuracy improves as its value moves closer to 1. To optimize your model for a predictive accuracy as close to 1 as possible, you can use any or all of the following techniques:\n",
    ">\n",
    "> * Adjust the input data by dropping different features columns to ensure that no variables or outliers confuse the model.\n",
    ">\n",
    "> * Add more neurons (nodes) to a hidden layer.\n",
    ">\n",
    "> * Add more hidden layers.\n",
    ">\n",
    "> * Use different activation functions for the hidden layers.\n",
    ">\n",
    "> * Add to or reduce the number of epochs in the training regimen.\n"
   ]
  },
  {
   "cell_type": "markdown",
   "metadata": {},
   "source": [
    "### Alternative Model 1"
   ]
  },
  {
   "cell_type": "code",
   "execution_count": 28,
   "metadata": {},
   "outputs": [
    {
     "data": {
      "text/plain": [
       "116"
      ]
     },
     "execution_count": 28,
     "metadata": {},
     "output_type": "execute_result"
    }
   ],
   "source": [
    "# Define the the number of inputs (features) to the model\n",
    "number_input_features = len(X_train.iloc[0])\n",
    "\n",
    "# Review the number of features\n",
    "number_input_features"
   ]
  },
  {
   "cell_type": "code",
   "execution_count": 29,
   "metadata": {},
   "outputs": [],
   "source": [
    "# Define the number of neurons in the output layer\n",
    "number_output_neurons_A1 = 2"
   ]
  },
  {
   "cell_type": "code",
   "execution_count": 30,
   "metadata": {},
   "outputs": [
    {
     "data": {
      "text/plain": [
       "16"
      ]
     },
     "execution_count": 30,
     "metadata": {},
     "output_type": "execute_result"
    }
   ],
   "source": [
    "# Define the number of hidden nodes for the first hidden layer\n",
    "hidden_nodes_layer1_A1 = 16\n",
    "\n",
    "# Review the number of hidden nodes in the first layer\n",
    "hidden_nodes_layer1_A1"
   ]
  },
  {
   "cell_type": "code",
   "execution_count": 31,
   "metadata": {},
   "outputs": [
    {
     "data": {
      "text/plain": [
       "8"
      ]
     },
     "execution_count": 31,
     "metadata": {},
     "output_type": "execute_result"
    }
   ],
   "source": [
    "# Define the number of hidden nodes for the second hidden layer\n",
    "hidden_nodes_layer2_A1 = 8\n",
    "\n",
    "# Review the number of hidden nodes in the second layer\n",
    "hidden_nodes_layer2_A1"
   ]
  },
  {
   "cell_type": "code",
   "execution_count": 32,
   "metadata": {},
   "outputs": [],
   "source": [
    "# Create the Sequential model instance\n",
    "nn_A1 = Sequential()"
   ]
  },
  {
   "cell_type": "code",
   "execution_count": 33,
   "metadata": {},
   "outputs": [
    {
     "name": "stdout",
     "output_type": "stream",
     "text": [
      "Model: \"sequential_1\"\n",
      "_________________________________________________________________\n",
      " Layer (type)                Output Shape              Param #   \n",
      "=================================================================\n",
      " dense_3 (Dense)             (None, 16)                1872      \n",
      "                                                                 \n",
      " dense_4 (Dense)             (None, 8)                 136       \n",
      "                                                                 \n",
      " dense_5 (Dense)             (None, 1)                 9         \n",
      "                                                                 \n",
      "=================================================================\n",
      "Total params: 2,017\n",
      "Trainable params: 2,017\n",
      "Non-trainable params: 0\n",
      "_________________________________________________________________\n"
     ]
    }
   ],
   "source": [
    "# First hidden layer\n",
    "nn_A1.add(Dense(units=hidden_nodes_layer1_A1, input_dim=number_input_features, activation=\"relu\"))\n",
    "\n",
    "# Second hidden layer\n",
    "nn_A1.add(Dense(units=hidden_nodes_layer2_A1, activation=\"relu\"))\n",
    "\n",
    "# Output layer\n",
    "nn_A1.add(Dense(units=1, activation=\"linear\"))\n",
    "\n",
    "\n",
    "# Check the structure of the model\n",
    "nn_A1.summary()"
   ]
  },
  {
   "cell_type": "code",
   "execution_count": 34,
   "metadata": {},
   "outputs": [],
   "source": [
    "# Compile the Sequential model\n",
    "nn_A1.compile(loss=\"mean_squared_error\", optimizer=\"adam\", metrics=[\"mse\"])\n"
   ]
  },
  {
   "cell_type": "code",
   "execution_count": 35,
   "metadata": {},
   "outputs": [
    {
     "name": "stdout",
     "output_type": "stream",
     "text": [
      "Epoch 1/50\n",
      "751/751 [==============================] - 1s 1ms/step - loss: 396941885440.0000 - mse: 396941885440.0000 - val_loss: 266916224.0000 - val_mse: 266916224.0000\n",
      "Epoch 2/50\n",
      "751/751 [==============================] - 1s 912us/step - loss: 304426.7500 - mse: 304426.7500 - val_loss: 111.6194 - val_mse: 111.6194\n",
      "Epoch 3/50\n",
      "751/751 [==============================] - 1s 915us/step - loss: 1.0358 - mse: 1.0358 - val_loss: 3.1622 - val_mse: 3.1622\n",
      "Epoch 4/50\n",
      "751/751 [==============================] - 1s 910us/step - loss: 0.4642 - mse: 0.4642 - val_loss: 6.7119 - val_mse: 6.7119\n",
      "Epoch 5/50\n",
      "751/751 [==============================] - 1s 913us/step - loss: 2.0550 - mse: 2.0550 - val_loss: 682.6892 - val_mse: 682.6892\n",
      "Epoch 6/50\n",
      "751/751 [==============================] - 1s 910us/step - loss: 13214180.0000 - mse: 13214180.0000 - val_loss: 168439726080.0000 - val_mse: 168439726080.0000\n",
      "Epoch 7/50\n",
      "751/751 [==============================] - 1s 911us/step - loss: 504078794752.0000 - mse: 504078794752.0000 - val_loss: 944226435072.0000 - val_mse: 944226435072.0000\n",
      "Epoch 8/50\n",
      "751/751 [==============================] - 1s 941us/step - loss: 9208012800.0000 - mse: 9208012800.0000 - val_loss: 10196.1084 - val_mse: 10196.1084\n",
      "Epoch 9/50\n",
      "751/751 [==============================] - 1s 937us/step - loss: 119.4662 - mse: 119.4662 - val_loss: 363.9099 - val_mse: 363.9099\n",
      "Epoch 10/50\n",
      "751/751 [==============================] - 1s 941us/step - loss: 41.6291 - mse: 41.6291 - val_loss: 2.5963 - val_mse: 2.5963\n",
      "Epoch 11/50\n",
      "751/751 [==============================] - 1s 933us/step - loss: 0.7294 - mse: 0.7294 - val_loss: 2.4852 - val_mse: 2.4852\n",
      "Epoch 12/50\n",
      "751/751 [==============================] - 1s 941us/step - loss: 0.6989 - mse: 0.6989 - val_loss: 1.4765 - val_mse: 1.4765\n",
      "Epoch 13/50\n",
      "751/751 [==============================] - 1s 934us/step - loss: 0.6757 - mse: 0.6757 - val_loss: 3.5613 - val_mse: 3.5613\n",
      "Epoch 14/50\n",
      "751/751 [==============================] - 1s 933us/step - loss: 75008448.0000 - mse: 75008448.0000 - val_loss: 102996901888.0000 - val_mse: 102996901888.0000\n",
      "Epoch 15/50\n",
      "751/751 [==============================] - 1s 935us/step - loss: 90301521920.0000 - mse: 90301521920.0000 - val_loss: 4106997248.0000 - val_mse: 4106997248.0000\n",
      "Epoch 16/50\n",
      "751/751 [==============================] - 1s 932us/step - loss: 45987704.0000 - mse: 45987704.0000 - val_loss: 39586404.0000 - val_mse: 39586404.0000\n",
      "Epoch 17/50\n",
      "751/751 [==============================] - 1s 934us/step - loss: 252664.0781 - mse: 252664.0781 - val_loss: 8376.9736 - val_mse: 8376.9736\n",
      "Epoch 18/50\n",
      "751/751 [==============================] - 1s 934us/step - loss: 49.4881 - mse: 49.4881 - val_loss: 0.4189 - val_mse: 0.4189\n",
      "Epoch 19/50\n",
      "751/751 [==============================] - 1s 954us/step - loss: 0.3779 - mse: 0.3779 - val_loss: 0.3570 - val_mse: 0.3570\n",
      "Epoch 20/50\n",
      "751/751 [==============================] - 1s 933us/step - loss: 0.3769 - mse: 0.3769 - val_loss: 0.3578 - val_mse: 0.3578\n",
      "Epoch 21/50\n",
      "751/751 [==============================] - 1s 954us/step - loss: 0.3766 - mse: 0.3766 - val_loss: 0.3700 - val_mse: 0.3700\n",
      "Epoch 22/50\n",
      "751/751 [==============================] - 1s 937us/step - loss: 0.3767 - mse: 0.3767 - val_loss: 0.3566 - val_mse: 0.3566\n",
      "Epoch 23/50\n",
      "751/751 [==============================] - 1s 942us/step - loss: 0.3765 - mse: 0.3765 - val_loss: 0.3550 - val_mse: 0.3550\n",
      "Epoch 24/50\n",
      "751/751 [==============================] - 1s 946us/step - loss: 0.3761 - mse: 0.3761 - val_loss: 0.3617 - val_mse: 0.3617\n",
      "Epoch 25/50\n",
      "751/751 [==============================] - 1s 929us/step - loss: 0.3759 - mse: 0.3759 - val_loss: 0.4298 - val_mse: 0.4298\n",
      "Epoch 26/50\n",
      "751/751 [==============================] - 1s 924us/step - loss: 0.3789 - mse: 0.3789 - val_loss: 0.3970 - val_mse: 0.3970\n",
      "Epoch 27/50\n",
      "751/751 [==============================] - 1s 926us/step - loss: 120.6372 - mse: 120.6372 - val_loss: 13270313.0000 - val_mse: 13270313.0000\n",
      "Epoch 28/50\n",
      "751/751 [==============================] - 1s 922us/step - loss: 395379744.0000 - mse: 395379744.0000 - val_loss: 0.3908 - val_mse: 0.3908\n",
      "Epoch 29/50\n",
      "751/751 [==============================] - 1s 926us/step - loss: 0.4182 - mse: 0.4182 - val_loss: 0.3907 - val_mse: 0.3907\n",
      "Epoch 30/50\n",
      "751/751 [==============================] - 1s 929us/step - loss: 0.4180 - mse: 0.4180 - val_loss: 0.3906 - val_mse: 0.3906\n",
      "Epoch 31/50\n",
      "751/751 [==============================] - 1s 921us/step - loss: 0.4178 - mse: 0.4178 - val_loss: 0.3904 - val_mse: 0.3904\n",
      "Epoch 32/50\n",
      "751/751 [==============================] - 1s 935us/step - loss: 0.4176 - mse: 0.4176 - val_loss: 0.3901 - val_mse: 0.3901\n",
      "Epoch 33/50\n",
      "751/751 [==============================] - 1s 932us/step - loss: 0.4172 - mse: 0.4172 - val_loss: 0.3896 - val_mse: 0.3896\n",
      "Epoch 34/50\n",
      "751/751 [==============================] - 1s 947us/step - loss: 0.4166 - mse: 0.4166 - val_loss: 0.3890 - val_mse: 0.3890\n",
      "Epoch 35/50\n",
      "751/751 [==============================] - 1s 927us/step - loss: 0.4157 - mse: 0.4157 - val_loss: 0.3881 - val_mse: 0.3881\n",
      "Epoch 36/50\n",
      "751/751 [==============================] - 1s 924us/step - loss: 0.4145 - mse: 0.4145 - val_loss: 0.3867 - val_mse: 0.3867\n",
      "Epoch 37/50\n",
      "751/751 [==============================] - 1s 930us/step - loss: 0.4127 - mse: 0.4127 - val_loss: 0.3848 - val_mse: 0.3848\n",
      "Epoch 38/50\n",
      "751/751 [==============================] - 1s 925us/step - loss: 0.4102 - mse: 0.4102 - val_loss: 0.3820 - val_mse: 0.3820\n",
      "Epoch 39/50\n",
      "751/751 [==============================] - 1s 926us/step - loss: 0.4065 - mse: 0.4065 - val_loss: 0.3781 - val_mse: 0.3781\n",
      "Epoch 40/50\n",
      "751/751 [==============================] - 1s 937us/step - loss: 0.4014 - mse: 0.4014 - val_loss: 0.3726 - val_mse: 0.3726\n",
      "Epoch 41/50\n",
      "751/751 [==============================] - 1s 937us/step - loss: 0.3942 - mse: 0.3942 - val_loss: 0.3650 - val_mse: 0.3650\n",
      "Epoch 42/50\n",
      "751/751 [==============================] - 1s 937us/step - loss: 0.3843 - mse: 0.3843 - val_loss: 0.3547 - val_mse: 0.3547\n",
      "Epoch 43/50\n",
      "751/751 [==============================] - 1s 940us/step - loss: 0.3711 - mse: 0.3711 - val_loss: 0.3412 - val_mse: 0.3412\n",
      "Epoch 44/50\n",
      "751/751 [==============================] - 1s 936us/step - loss: 0.3541 - mse: 0.3541 - val_loss: 0.3245 - val_mse: 0.3245\n",
      "Epoch 45/50\n",
      "751/751 [==============================] - 1s 936us/step - loss: 0.3336 - mse: 0.3336 - val_loss: 0.3053 - val_mse: 0.3053\n",
      "Epoch 46/50\n",
      "751/751 [==============================] - 1s 936us/step - loss: 0.3107 - mse: 0.3107 - val_loss: 0.2855 - val_mse: 0.2855\n",
      "Epoch 47/50\n",
      "751/751 [==============================] - 1s 965us/step - loss: 0.2879 - mse: 0.2879 - val_loss: 0.2679 - val_mse: 0.2679\n",
      "Epoch 48/50\n",
      "751/751 [==============================] - 1s 933us/step - loss: 0.2687 - mse: 0.2687 - val_loss: 0.2559 - val_mse: 0.2559\n",
      "Epoch 49/50\n",
      "751/751 [==============================] - 1s 929us/step - loss: 0.2561 - mse: 0.2561 - val_loss: 0.2507 - val_mse: 0.2507\n",
      "Epoch 50/50\n",
      "751/751 [==============================] - 1s 927us/step - loss: 0.2502 - mse: 0.2502 - val_loss: 0.2501 - val_mse: 0.2501\n"
     ]
    }
   ],
   "source": [
    "# Fit the model using 50 epochs and the training data\n",
    "fit_model_A1 =  nn_A1.fit(X, y, validation_split=0.3, epochs=50)\n"
   ]
  },
  {
   "cell_type": "markdown",
   "metadata": {},
   "source": [
    "#### Alternative Model 2"
   ]
  },
  {
   "cell_type": "code",
   "execution_count": 36,
   "metadata": {},
   "outputs": [
    {
     "data": {
      "text/plain": [
       "116"
      ]
     },
     "execution_count": 36,
     "metadata": {},
     "output_type": "execute_result"
    }
   ],
   "source": [
    "# Define the the number of inputs (features) to the model\n",
    "number_input_features = len(X_train.iloc[0])\n",
    "\n",
    "# Review the number of features\n",
    "number_input_features"
   ]
  },
  {
   "cell_type": "code",
   "execution_count": 37,
   "metadata": {},
   "outputs": [],
   "source": [
    "# Define the number of neurons in the output layer\n",
    "number_output_neurons_A2 = 1"
   ]
  },
  {
   "cell_type": "code",
   "execution_count": 38,
   "metadata": {},
   "outputs": [
    {
     "data": {
      "text/plain": [
       "16"
      ]
     },
     "execution_count": 38,
     "metadata": {},
     "output_type": "execute_result"
    }
   ],
   "source": [
    "# Define the number of hidden nodes for the first hidden layer\n",
    "hidden_nodes_layer1_A2 = 16\n",
    "\n",
    "# Review the number of hidden nodes in the first layer\n",
    "hidden_nodes_layer1_A1"
   ]
  },
  {
   "cell_type": "code",
   "execution_count": 39,
   "metadata": {},
   "outputs": [
    {
     "data": {
      "text/plain": [
       "8"
      ]
     },
     "execution_count": 39,
     "metadata": {},
     "output_type": "execute_result"
    }
   ],
   "source": [
    "# Define the number of hidden nodes for the second hidden layer\n",
    "hidden_nodes_layer2_A2 = 8\n",
    "\n",
    "# Review the number of hidden nodes in the second layer\n",
    "hidden_nodes_layer2_A2"
   ]
  },
  {
   "cell_type": "code",
   "execution_count": 40,
   "metadata": {},
   "outputs": [],
   "source": [
    "# Create the Sequential model instance\n",
    "nn_A2 = Sequential()"
   ]
  },
  {
   "cell_type": "code",
   "execution_count": 41,
   "metadata": {},
   "outputs": [
    {
     "name": "stdout",
     "output_type": "stream",
     "text": [
      "Model: \"sequential_2\"\n",
      "_________________________________________________________________\n",
      " Layer (type)                Output Shape              Param #   \n",
      "=================================================================\n",
      " dense_6 (Dense)             (None, 16)                1872      \n",
      "                                                                 \n",
      " dense_7 (Dense)             (None, 8)                 136       \n",
      "                                                                 \n",
      " dense_8 (Dense)             (None, 1)                 9         \n",
      "                                                                 \n",
      "=================================================================\n",
      "Total params: 2,017\n",
      "Trainable params: 2,017\n",
      "Non-trainable params: 0\n",
      "_________________________________________________________________\n"
     ]
    }
   ],
   "source": [
    "# First hidden layer\n",
    "nn_A2.add(Dense(units=hidden_nodes_layer1_A2, input_dim=number_input_features, activation=\"relu\"))\n",
    "\n",
    "# Second hidden layer\n",
    "nn_A2.add(Dense(units=hidden_nodes_layer2_A2, activation=\"relu\"))\n",
    "\n",
    "# Output layer\n",
    "nn_A2.add(Dense(units=1, activation=\"linear\"))\n",
    "\n",
    "\n",
    "# Check the structure of the model\n",
    "nn_A2.summary()"
   ]
  },
  {
   "cell_type": "code",
   "execution_count": 42,
   "metadata": {},
   "outputs": [],
   "source": [
    "# Compile the model\n",
    "nn_A2.compile(loss=\"mean_squared_error\", optimizer=\"adam\", metrics=[\"mse\"])\n"
   ]
  },
  {
   "cell_type": "code",
   "execution_count": 43,
   "metadata": {},
   "outputs": [
    {
     "name": "stdout",
     "output_type": "stream",
     "text": [
      "Epoch 1/50\n",
      "751/751 [==============================] - 1s 1ms/step - loss: 20527974400.0000 - mse: 20527974400.0000 - val_loss: 4331511.0000 - val_mse: 4331511.0000\n",
      "Epoch 2/50\n",
      "751/751 [==============================] - 1s 960us/step - loss: 281518.1250 - mse: 281518.1250 - val_loss: 10.6642 - val_mse: 10.6642\n",
      "Epoch 3/50\n",
      "751/751 [==============================] - 1s 942us/step - loss: 352.5265 - mse: 352.5265 - val_loss: 9348.3047 - val_mse: 9348.3047\n",
      "Epoch 4/50\n",
      "751/751 [==============================] - 1s 942us/step - loss: 217603.6719 - mse: 217603.6719 - val_loss: 187855.0781 - val_mse: 187855.0781\n",
      "Epoch 5/50\n",
      "751/751 [==============================] - 1s 944us/step - loss: 1271560448.0000 - mse: 1271560448.0000 - val_loss: 3140181819392.0000 - val_mse: 3140181819392.0000\n",
      "Epoch 6/50\n",
      "751/751 [==============================] - 1s 925us/step - loss: 17309935616.0000 - mse: 17309935616.0000 - val_loss: 25643032576.0000 - val_mse: 25643032576.0000\n",
      "Epoch 7/50\n",
      "751/751 [==============================] - 1s 929us/step - loss: 163447216.0000 - mse: 163447216.0000 - val_loss: 157933.3906 - val_mse: 157933.3906\n",
      "Epoch 8/50\n",
      "751/751 [==============================] - 1s 962us/step - loss: 1857.4618 - mse: 1857.4618 - val_loss: 11293.9199 - val_mse: 11293.9199\n",
      "Epoch 9/50\n",
      "751/751 [==============================] - 1s 925us/step - loss: 482275.7500 - mse: 482275.7500 - val_loss: 11771405.0000 - val_mse: 11771405.0000\n",
      "Epoch 10/50\n",
      "751/751 [==============================] - 1s 930us/step - loss: 8311366144.0000 - mse: 8311366144.0000 - val_loss: 134085.8438 - val_mse: 134085.8438\n",
      "Epoch 11/50\n",
      "751/751 [==============================] - 1s 932us/step - loss: 106.5565 - mse: 106.5565 - val_loss: 0.3001 - val_mse: 0.3001\n",
      "Epoch 12/50\n",
      "751/751 [==============================] - 1s 922us/step - loss: 0.3083 - mse: 0.3083 - val_loss: 0.2998 - val_mse: 0.2998\n",
      "Epoch 13/50\n",
      "751/751 [==============================] - 1s 918us/step - loss: 0.3080 - mse: 0.3080 - val_loss: 0.3002 - val_mse: 0.3002\n",
      "Epoch 14/50\n",
      "751/751 [==============================] - 1s 927us/step - loss: 0.3116 - mse: 0.3116 - val_loss: 0.3257 - val_mse: 0.3257\n",
      "Epoch 15/50\n",
      "751/751 [==============================] - 1s 926us/step - loss: 400.6281 - mse: 400.6281 - val_loss: 69159.4453 - val_mse: 69159.4453\n",
      "Epoch 16/50\n",
      "751/751 [==============================] - 1s 924us/step - loss: 10171114496.0000 - mse: 10171114496.0000 - val_loss: 53548265472.0000 - val_mse: 53548265472.0000\n",
      "Epoch 17/50\n",
      "751/751 [==============================] - 1s 930us/step - loss: 15732401152.0000 - mse: 15732401152.0000 - val_loss: 9563678720.0000 - val_mse: 9563678720.0000\n",
      "Epoch 18/50\n",
      "751/751 [==============================] - 1s 953us/step - loss: 154876320.0000 - mse: 154876320.0000 - val_loss: 949.2286 - val_mse: 949.2286\n",
      "Epoch 19/50\n",
      "751/751 [==============================] - 1s 928us/step - loss: 2.5883 - mse: 2.5883 - val_loss: 0.9499 - val_mse: 0.9499\n",
      "Epoch 20/50\n",
      "751/751 [==============================] - 1s 924us/step - loss: 0.2718 - mse: 0.2718 - val_loss: 1.8986 - val_mse: 1.8986\n",
      "Epoch 21/50\n",
      "751/751 [==============================] - 1s 916us/step - loss: 0.2909 - mse: 0.2909 - val_loss: 0.3211 - val_mse: 0.3211\n",
      "Epoch 22/50\n",
      "751/751 [==============================] - 1s 917us/step - loss: 0.3018 - mse: 0.3018 - val_loss: 0.3244 - val_mse: 0.3244\n",
      "Epoch 23/50\n",
      "751/751 [==============================] - 1s 941us/step - loss: 10.5228 - mse: 10.5228 - val_loss: 6656.9624 - val_mse: 6656.9624\n",
      "Epoch 24/50\n",
      "751/751 [==============================] - 1s 961us/step - loss: 197276416.0000 - mse: 197276416.0000 - val_loss: 996185600.0000 - val_mse: 996185600.0000\n",
      "Epoch 25/50\n",
      "751/751 [==============================] - 1s 951us/step - loss: 186568304.0000 - mse: 186568304.0000 - val_loss: 27908818944.0000 - val_mse: 27908818944.0000\n",
      "Epoch 26/50\n",
      "751/751 [==============================] - 1s 946us/step - loss: 2724699904.0000 - mse: 2724699904.0000 - val_loss: 46624292.0000 - val_mse: 46624292.0000\n",
      "Epoch 27/50\n",
      "751/751 [==============================] - 1s 948us/step - loss: 26286485504.0000 - mse: 26286485504.0000 - val_loss: 7499717120.0000 - val_mse: 7499717120.0000\n",
      "Epoch 28/50\n",
      "751/751 [==============================] - 1s 950us/step - loss: 34767176.0000 - mse: 34767176.0000 - val_loss: 3759548.7500 - val_mse: 3759548.7500\n",
      "Epoch 29/50\n",
      "751/751 [==============================] - 1s 947us/step - loss: 17748.9688 - mse: 17748.9688 - val_loss: 40.6941 - val_mse: 40.6941\n",
      "Epoch 30/50\n",
      "751/751 [==============================] - 1s 949us/step - loss: 0.4047 - mse: 0.4047 - val_loss: 0.3079 - val_mse: 0.3079\n",
      "Epoch 31/50\n",
      "751/751 [==============================] - 1s 942us/step - loss: 0.2493 - mse: 0.2493 - val_loss: 0.2641 - val_mse: 0.2641\n",
      "Epoch 32/50\n",
      "751/751 [==============================] - 1s 941us/step - loss: 0.2499 - mse: 0.2499 - val_loss: 0.3074 - val_mse: 0.3074\n",
      "Epoch 33/50\n",
      "751/751 [==============================] - 1s 944us/step - loss: 0.2483 - mse: 0.2483 - val_loss: 0.2634 - val_mse: 0.2634\n",
      "Epoch 34/50\n",
      "751/751 [==============================] - 1s 940us/step - loss: 0.2547 - mse: 0.2547 - val_loss: 0.5735 - val_mse: 0.5735\n",
      "Epoch 35/50\n",
      "751/751 [==============================] - 1s 964us/step - loss: 0.2523 - mse: 0.2523 - val_loss: 2.3962 - val_mse: 2.3962\n",
      "Epoch 36/50\n",
      "751/751 [==============================] - 1s 941us/step - loss: 4666.3711 - mse: 4666.3711 - val_loss: 1533628.6250 - val_mse: 1533628.6250\n",
      "Epoch 37/50\n",
      "751/751 [==============================] - 1s 948us/step - loss: 1109573376.0000 - mse: 1109573376.0000 - val_loss: 19452540928.0000 - val_mse: 19452540928.0000\n",
      "Epoch 38/50\n",
      "751/751 [==============================] - 1s 938us/step - loss: 227241280.0000 - mse: 227241280.0000 - val_loss: 274.6624 - val_mse: 274.6624\n",
      "Epoch 39/50\n",
      "751/751 [==============================] - 1s 958us/step - loss: 37.5795 - mse: 37.5795 - val_loss: 0.2883 - val_mse: 0.2883\n",
      "Epoch 40/50\n",
      "751/751 [==============================] - 1s 961us/step - loss: 0.2665 - mse: 0.2665 - val_loss: 0.2835 - val_mse: 0.2835\n",
      "Epoch 41/50\n",
      "751/751 [==============================] - 1s 981us/step - loss: 0.3037 - mse: 0.3037 - val_loss: 0.2898 - val_mse: 0.2898\n",
      "Epoch 42/50\n",
      "751/751 [==============================] - 1s 950us/step - loss: 0.5145 - mse: 0.5145 - val_loss: 0.2851 - val_mse: 0.2851\n",
      "Epoch 43/50\n",
      "751/751 [==============================] - 1s 949us/step - loss: 1.6141 - mse: 1.6141 - val_loss: 43250.9062 - val_mse: 43250.9062\n",
      "Epoch 44/50\n",
      "751/751 [==============================] - 1s 953us/step - loss: 294946528.0000 - mse: 294946528.0000 - val_loss: 295148480.0000 - val_mse: 295148480.0000\n",
      "Epoch 45/50\n",
      "751/751 [==============================] - 1s 953us/step - loss: 662023.6875 - mse: 662023.6875 - val_loss: 397621984.0000 - val_mse: 397621984.0000\n",
      "Epoch 46/50\n",
      "751/751 [==============================] - 1s 953us/step - loss: 11451120.0000 - mse: 11451120.0000 - val_loss: 3614015232.0000 - val_mse: 3614015232.0000\n",
      "Epoch 47/50\n",
      "751/751 [==============================] - 1s 949us/step - loss: 711314432.0000 - mse: 711314432.0000 - val_loss: 30484410368.0000 - val_mse: 30484410368.0000\n",
      "Epoch 48/50\n",
      "751/751 [==============================] - 1s 964us/step - loss: 6079398.0000 - mse: 6079398.0000 - val_loss: 2099.4563 - val_mse: 2099.4563\n",
      "Epoch 49/50\n",
      "751/751 [==============================] - 1s 949us/step - loss: 3.8029 - mse: 3.8029 - val_loss: 0.5472 - val_mse: 0.5472\n",
      "Epoch 50/50\n",
      "751/751 [==============================] - 1s 945us/step - loss: 0.4905 - mse: 0.4905 - val_loss: 0.5650 - val_mse: 0.5650\n"
     ]
    }
   ],
   "source": [
    "# Fit the model\n",
    "fit_model_A2 =  nn_A2.fit(X, y, validation_split=0.3, epochs=50)\n"
   ]
  },
  {
   "cell_type": "markdown",
   "metadata": {},
   "source": [
    "### Step 2: After finishing your models, display the accuracy scores achieved by each model, and compare the results."
   ]
  },
  {
   "cell_type": "code",
   "execution_count": 44,
   "metadata": {},
   "outputs": [
    {
     "name": "stdout",
     "output_type": "stream",
     "text": [
      "Original Model Results\n",
      "268/268 - 0s - loss: 0.5882 - mse: 0.5882 - 151ms/epoch - 564us/step\n",
      "Loss: 0.5881990790367126, Accuracy: 0.5881990790367126\n"
     ]
    }
   ],
   "source": [
    "print(\"Original Model Results\")\n",
    "\n",
    "# Evaluate the model loss and accuracy metrics using the evaluate method and the test data\n",
    "model_loss, model_accuracy = nn.evaluate(X_test_scaled, y_test, verbose=2)\n",
    "\n",
    "# Display the model loss and accuracy results\n",
    "print(f\"Loss: {model_loss}, Accuracy: {model_accuracy}\")"
   ]
  },
  {
   "cell_type": "code",
   "execution_count": 45,
   "metadata": {},
   "outputs": [
    {
     "name": "stdout",
     "output_type": "stream",
     "text": [
      "Alternative Model 1 Results\n",
      "268/268 - 0s - loss: 0.5903 - mse: 0.5903 - 199ms/epoch - 743us/step\n",
      "Loss: 0.5903081893920898, Accuracy: 0.5903081893920898\n"
     ]
    }
   ],
   "source": [
    "print(\"Alternative Model 1 Results\")\n",
    "\n",
    "# Evaluate the model loss and accuracy metrics using the evaluate method and the test data\n",
    "model_loss, model_accuracy = nn_A1.evaluate(X_test_scaled, y_test, verbose=2)\n",
    "\n",
    "# Display the model loss and accuracy results\n",
    "print(f\"Loss: {model_loss}, Accuracy: {model_accuracy}\")"
   ]
  },
  {
   "cell_type": "code",
   "execution_count": 46,
   "metadata": {},
   "outputs": [
    {
     "name": "stdout",
     "output_type": "stream",
     "text": [
      "Alternative Model 2 Results\n",
      "268/268 - 0s - loss: 0.5187 - mse: 0.5187 - 200ms/epoch - 747us/step\n",
      "Loss: 0.5186553001403809, Accuracy: 0.5186553001403809\n"
     ]
    }
   ],
   "source": [
    "print(\"Alternative Model 2 Results\")\n",
    "\n",
    "# Evaluate the model loss and accuracy metrics using the evaluate method and the test data\n",
    "model_loss, model_accuracy = nn_A2.evaluate(X_test_scaled, y_test, verbose=2)\n",
    "\n",
    "# Display the model loss and accuracy results\n",
    "print(f\"Loss: {model_loss}, Accuracy: {model_accuracy}\")"
   ]
  },
  {
   "cell_type": "markdown",
   "metadata": {},
   "source": [
    "### Step 3: Save each of your alternative models as an HDF5 file.\n"
   ]
  },
  {
   "cell_type": "code",
   "execution_count": 47,
   "metadata": {},
   "outputs": [],
   "source": [
    "# Set the file path for the first alternative model\n",
    "file_path =  Path('Resources/AlphabetSoup_A1.h5')\n",
    "\n",
    "# Export your model to a HDF5 file\n",
    "nn_A1.save(file_path)\n"
   ]
  },
  {
   "cell_type": "code",
   "execution_count": 48,
   "metadata": {},
   "outputs": [],
   "source": [
    "# Set the file path for the first alternative model\n",
    "file_path =  Path('Resources/AlphabetSoup_A2.h5')\n",
    "\n",
    "# Export your model to a HDF5 file\n",
    "nn_A2.save(file_path)\n"
   ]
  },
  {
   "cell_type": "code",
   "execution_count": null,
   "metadata": {},
   "outputs": [],
   "source": []
  }
 ],
 "metadata": {
  "kernelspec": {
   "display_name": "Python 3 (ipykernel)",
   "language": "python",
   "name": "python3"
  },
  "language_info": {
   "codemirror_mode": {
    "name": "ipython",
    "version": 3
   },
   "file_extension": ".py",
   "mimetype": "text/x-python",
   "name": "python",
   "nbconvert_exporter": "python",
   "pygments_lexer": "ipython3",
   "version": "3.7.13"
  }
 },
 "nbformat": 4,
 "nbformat_minor": 4
}
